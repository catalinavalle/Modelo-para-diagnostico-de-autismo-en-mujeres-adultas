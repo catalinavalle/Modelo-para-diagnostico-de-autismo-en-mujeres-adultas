{
 "cells": [
  {
   "cell_type": "markdown",
   "id": "261e9652",
   "metadata": {},
   "source": [
    "# Modelo para diagnóstico de mujeres autistas"
   ]
  },
  {
   "cell_type": "code",
   "execution_count": 1,
   "id": "17996b6b",
   "metadata": {},
   "outputs": [],
   "source": [
    "from sklearn.model_selection import train_test_split\n",
    "from sklearn.preprocessing import StandardScaler\n",
    "import pandas as pd\n",
    "import matplotlib.pyplot as plt"
   ]
  },
  {
   "cell_type": "code",
   "execution_count": 2,
   "id": "df65b211",
   "metadata": {},
   "outputs": [],
   "source": [
    "coef_dict = {}"
   ]
  },
  {
   "cell_type": "code",
   "execution_count": 3,
   "id": "7f7e847e",
   "metadata": {},
   "outputs": [],
   "source": [
    "# Cargar el conjunto de datos\n",
    "df = pd.read_excel(\"respuestas_mapeadas.xlsx\")"
   ]
  },
  {
   "cell_type": "markdown",
   "id": "73345144",
   "metadata": {},
   "source": [
    "## Entrenamiento"
   ]
  },
  {
   "cell_type": "markdown",
   "id": "5d070741",
   "metadata": {},
   "source": [
    "Separamos datos de entrenamiento y testeo"
   ]
  },
  {
   "cell_type": "code",
   "execution_count": 4,
   "id": "b96a411a",
   "metadata": {},
   "outputs": [],
   "source": [
    "X = df.drop(\"Diagnostico_autismo\", axis=1)\n",
    "y = df[\"Diagnostico_autismo\"]"
   ]
  },
  {
   "cell_type": "code",
   "execution_count": 5,
   "id": "e46f58e6",
   "metadata": {},
   "outputs": [],
   "source": [
    "X_train, X_test, y_train, y_test = train_test_split(X, y, test_size=0.2, stratify=y)"
   ]
  },
  {
   "cell_type": "code",
   "execution_count": 6,
   "id": "b42edcb2",
   "metadata": {},
   "outputs": [],
   "source": [
    "scaler = StandardScaler()\n",
    "X_train_scaled = scaler.fit_transform(X_train)\n",
    "X_test_scaled = scaler.transform(X_test)"
   ]
  },
  {
   "cell_type": "markdown",
   "id": "d95cdb17",
   "metadata": {},
   "source": [
    "## Regresion Logística"
   ]
  },
  {
   "cell_type": "code",
   "execution_count": 7,
   "id": "d91c36c5",
   "metadata": {},
   "outputs": [],
   "source": [
    "from sklearn.linear_model import LogisticRegression\n",
    "from sklearn.metrics import accuracy_score, classification_report"
   ]
  },
  {
   "cell_type": "markdown",
   "id": "3b205ba1",
   "metadata": {},
   "source": [
    "Inicializar el modelo de Regresión Logística"
   ]
  },
  {
   "cell_type": "code",
   "execution_count": 8,
   "id": "7b17c0b6",
   "metadata": {},
   "outputs": [],
   "source": [
    "logistic_model = LogisticRegression()"
   ]
  },
  {
   "cell_type": "markdown",
   "id": "95908b08",
   "metadata": {},
   "source": [
    "Entrenar el modelo"
   ]
  },
  {
   "cell_type": "code",
   "execution_count": 9,
   "id": "ea54d9af",
   "metadata": {},
   "outputs": [
    {
     "data": {
      "text/html": [
       "<style>#sk-container-id-1 {color: black;}#sk-container-id-1 pre{padding: 0;}#sk-container-id-1 div.sk-toggleable {background-color: white;}#sk-container-id-1 label.sk-toggleable__label {cursor: pointer;display: block;width: 100%;margin-bottom: 0;padding: 0.3em;box-sizing: border-box;text-align: center;}#sk-container-id-1 label.sk-toggleable__label-arrow:before {content: \"▸\";float: left;margin-right: 0.25em;color: #696969;}#sk-container-id-1 label.sk-toggleable__label-arrow:hover:before {color: black;}#sk-container-id-1 div.sk-estimator:hover label.sk-toggleable__label-arrow:before {color: black;}#sk-container-id-1 div.sk-toggleable__content {max-height: 0;max-width: 0;overflow: hidden;text-align: left;background-color: #f0f8ff;}#sk-container-id-1 div.sk-toggleable__content pre {margin: 0.2em;color: black;border-radius: 0.25em;background-color: #f0f8ff;}#sk-container-id-1 input.sk-toggleable__control:checked~div.sk-toggleable__content {max-height: 200px;max-width: 100%;overflow: auto;}#sk-container-id-1 input.sk-toggleable__control:checked~label.sk-toggleable__label-arrow:before {content: \"▾\";}#sk-container-id-1 div.sk-estimator input.sk-toggleable__control:checked~label.sk-toggleable__label {background-color: #d4ebff;}#sk-container-id-1 div.sk-label input.sk-toggleable__control:checked~label.sk-toggleable__label {background-color: #d4ebff;}#sk-container-id-1 input.sk-hidden--visually {border: 0;clip: rect(1px 1px 1px 1px);clip: rect(1px, 1px, 1px, 1px);height: 1px;margin: -1px;overflow: hidden;padding: 0;position: absolute;width: 1px;}#sk-container-id-1 div.sk-estimator {font-family: monospace;background-color: #f0f8ff;border: 1px dotted black;border-radius: 0.25em;box-sizing: border-box;margin-bottom: 0.5em;}#sk-container-id-1 div.sk-estimator:hover {background-color: #d4ebff;}#sk-container-id-1 div.sk-parallel-item::after {content: \"\";width: 100%;border-bottom: 1px solid gray;flex-grow: 1;}#sk-container-id-1 div.sk-label:hover label.sk-toggleable__label {background-color: #d4ebff;}#sk-container-id-1 div.sk-serial::before {content: \"\";position: absolute;border-left: 1px solid gray;box-sizing: border-box;top: 0;bottom: 0;left: 50%;z-index: 0;}#sk-container-id-1 div.sk-serial {display: flex;flex-direction: column;align-items: center;background-color: white;padding-right: 0.2em;padding-left: 0.2em;position: relative;}#sk-container-id-1 div.sk-item {position: relative;z-index: 1;}#sk-container-id-1 div.sk-parallel {display: flex;align-items: stretch;justify-content: center;background-color: white;position: relative;}#sk-container-id-1 div.sk-item::before, #sk-container-id-1 div.sk-parallel-item::before {content: \"\";position: absolute;border-left: 1px solid gray;box-sizing: border-box;top: 0;bottom: 0;left: 50%;z-index: -1;}#sk-container-id-1 div.sk-parallel-item {display: flex;flex-direction: column;z-index: 1;position: relative;background-color: white;}#sk-container-id-1 div.sk-parallel-item:first-child::after {align-self: flex-end;width: 50%;}#sk-container-id-1 div.sk-parallel-item:last-child::after {align-self: flex-start;width: 50%;}#sk-container-id-1 div.sk-parallel-item:only-child::after {width: 0;}#sk-container-id-1 div.sk-dashed-wrapped {border: 1px dashed gray;margin: 0 0.4em 0.5em 0.4em;box-sizing: border-box;padding-bottom: 0.4em;background-color: white;}#sk-container-id-1 div.sk-label label {font-family: monospace;font-weight: bold;display: inline-block;line-height: 1.2em;}#sk-container-id-1 div.sk-label-container {text-align: center;}#sk-container-id-1 div.sk-container {/* jupyter's `normalize.less` sets `[hidden] { display: none; }` but bootstrap.min.css set `[hidden] { display: none !important; }` so we also need the `!important` here to be able to override the default hidden behavior on the sphinx rendered scikit-learn.org. See: https://github.com/scikit-learn/scikit-learn/issues/21755 */display: inline-block !important;position: relative;}#sk-container-id-1 div.sk-text-repr-fallback {display: none;}</style><div id=\"sk-container-id-1\" class=\"sk-top-container\"><div class=\"sk-text-repr-fallback\"><pre>LogisticRegression()</pre><b>In a Jupyter environment, please rerun this cell to show the HTML representation or trust the notebook. <br />On GitHub, the HTML representation is unable to render, please try loading this page with nbviewer.org.</b></div><div class=\"sk-container\" hidden><div class=\"sk-item\"><div class=\"sk-estimator sk-toggleable\"><input class=\"sk-toggleable__control sk-hidden--visually\" id=\"sk-estimator-id-1\" type=\"checkbox\" checked><label for=\"sk-estimator-id-1\" class=\"sk-toggleable__label sk-toggleable__label-arrow\">LogisticRegression</label><div class=\"sk-toggleable__content\"><pre>LogisticRegression()</pre></div></div></div></div></div>"
      ],
      "text/plain": [
       "LogisticRegression()"
      ]
     },
     "execution_count": 9,
     "metadata": {},
     "output_type": "execute_result"
    }
   ],
   "source": [
    "logistic_model.fit(X_train_scaled, y_train)"
   ]
  },
  {
   "cell_type": "markdown",
   "id": "e4351104",
   "metadata": {},
   "source": [
    "Realizar predicciones en el conjunto de prueba"
   ]
  },
  {
   "cell_type": "code",
   "execution_count": 10,
   "id": "3179aba4",
   "metadata": {},
   "outputs": [],
   "source": [
    "y_pred_logistic = logistic_model.predict(X_test_scaled)"
   ]
  },
  {
   "cell_type": "markdown",
   "id": "10f0b01e",
   "metadata": {},
   "source": [
    "## Evaluación de desempeño del modelo"
   ]
  },
  {
   "cell_type": "code",
   "execution_count": 11,
   "id": "e921330a",
   "metadata": {},
   "outputs": [],
   "source": [
    "from sklearn.metrics import accuracy_score, confusion_matrix, classification_report"
   ]
  },
  {
   "cell_type": "code",
   "execution_count": 12,
   "id": "53b4a2ee",
   "metadata": {},
   "outputs": [
    {
     "name": "stdout",
     "output_type": "stream",
     "text": [
      "Accuracy - Regresión Logística: 1.0\n"
     ]
    }
   ],
   "source": [
    "accuracy_logistic = accuracy_score(y_test, y_pred_logistic)\n",
    "print(f\"Accuracy - Regresión Logística: {accuracy_logistic}\")"
   ]
  },
  {
   "cell_type": "code",
   "execution_count": 13,
   "id": "b140736a",
   "metadata": {},
   "outputs": [
    {
     "name": "stdout",
     "output_type": "stream",
     "text": [
      "Confusion Matrix:\n",
      "[[5 0]\n",
      " [0 9]]\n"
     ]
    }
   ],
   "source": [
    "conf_matrix_logistic = confusion_matrix(y_test, y_pred_logistic)\n",
    "print(\"Confusion Matrix:\")\n",
    "print(conf_matrix_logistic)"
   ]
  },
  {
   "cell_type": "code",
   "execution_count": 14,
   "id": "e5ab7553",
   "metadata": {},
   "outputs": [
    {
     "name": "stdout",
     "output_type": "stream",
     "text": [
      "Classification Report:\n",
      "              precision    recall  f1-score   support\n",
      "\n",
      "           0       1.00      1.00      1.00         5\n",
      "           1       1.00      1.00      1.00         9\n",
      "\n",
      "    accuracy                           1.00        14\n",
      "   macro avg       1.00      1.00      1.00        14\n",
      "weighted avg       1.00      1.00      1.00        14\n",
      "\n"
     ]
    }
   ],
   "source": [
    "print(\"Classification Report:\")\n",
    "print(classification_report(y_test, y_pred_logistic))"
   ]
  },
  {
   "cell_type": "markdown",
   "id": "374e81c1",
   "metadata": {},
   "source": [
    "Obtener los coeficientes del modelo"
   ]
  },
  {
   "cell_type": "code",
   "execution_count": 15,
   "id": "3ec25d15",
   "metadata": {},
   "outputs": [],
   "source": [
    "logistic_coefs = logistic_model.coef_\n",
    "logistic_intercept = logistic_model.intercept_"
   ]
  },
  {
   "cell_type": "markdown",
   "id": "bb46c7cf",
   "metadata": {},
   "source": [
    "Agregar coeficientes al diccionario"
   ]
  },
  {
   "cell_type": "code",
   "execution_count": 16,
   "id": "e5e3600e",
   "metadata": {},
   "outputs": [],
   "source": [
    "for idx, col in enumerate(X.columns):\n",
    "    coef_dict[col] = [round(logistic_coefs[0][idx],4)]"
   ]
  },
  {
   "cell_type": "markdown",
   "id": "e0665d8a",
   "metadata": {},
   "source": [
    "Ordenar y obtener los primeros y últimos 18"
   ]
  },
  {
   "cell_type": "code",
   "execution_count": 17,
   "id": "6058ff1a",
   "metadata": {},
   "outputs": [],
   "source": [
    "from itertools import islice\n",
    "sorted_data = dict(sorted(coef_dict.items(), key=lambda x: x[1][0], reverse=True))"
   ]
  },
  {
   "cell_type": "code",
   "execution_count": 18,
   "id": "13f1be51",
   "metadata": {},
   "outputs": [],
   "source": [
    "primeros_18 = dict(islice(sorted_data.items(), 18))\n",
    "ultimos_18 = dict(islice(sorted_data.items(), len(sorted_data) - 18, None))\n",
    "preguntas_encuesta_reducida = list(primeros_18.keys()) + list(ultimos_18.keys())"
   ]
  },
  {
   "cell_type": "code",
   "execution_count": 19,
   "id": "a7325ace",
   "metadata": {},
   "outputs": [
    {
     "data": {
      "text/plain": [
       "{'A veces me gustaría no ser autista.': [0.5865],\n",
       " 'Imito los gestos y comportamientos de los demás para encajar.': [0.4854],\n",
       " 'Me puedo interesar intensamente por temas puntuales y adquirir cierta expertiz desde lo teórico/práctico.': [0.4575],\n",
       " 'Tengo movimientos o comportamientos repetitivos, como mover las manos o pies.': [0.3256],\n",
       " 'Mi honestidad y autenticidad me permiten expresar mis pensamientos y emociones de manera directa y sincera.': [0.3167],\n",
       " 'Me he relacionado de manera romántica.': [0.3076],\n",
       " 'Suelo balancearme o mover las piernas.': [0.2996],\n",
       " 'Evito actividades que me gustan para evitar ser juzgado/a.': [0.2844],\n",
       " 'No entiendo las normas sociales en diferentes situaciones.': [0.2731],\n",
       " 'Tengo dificultades para filtrar o ignorar los estímulos sensoriales.': [0.2583],\n",
       " 'Los ruidos fuertes o inesperados me afectan más de lo que parecen afectar a los demás.': [0.2531],\n",
       " 'Me siento abrumado/a cuando tengo muchas tareas pendientes.': [0.2327],\n",
       " 'Me preocupa que los demás noten mis dificultades sociales o comportamientos inusuales.': [0.2324],\n",
       " 'Siento que estoy progresando hacia mis metas y objetivos personales.': [0.2303],\n",
       " 'Me siento en control de mi vida y de mis decisiones.': [0.2247],\n",
       " 'Me gusta jugar con objetos pequeños o texturas de la ropa.': [0.2135],\n",
       " 'Prefiero seguir las mismas actividades y evitar cambios repentinos.': [0.2105],\n",
       " 'Tengo dificultades para establecer prioridades y decidir qué tareas abordar primero en mi lista de cosas por hacer.': [0.207]}"
      ]
     },
     "execution_count": 19,
     "metadata": {},
     "output_type": "execute_result"
    }
   ],
   "source": [
    "primeros_18"
   ]
  },
  {
   "cell_type": "code",
   "execution_count": 20,
   "id": "d7d9406e",
   "metadata": {},
   "outputs": [
    {
     "data": {
      "text/plain": [
       "{'Me resulta complicado mantener la concentración en una tarea por largos períodos de tiempo.': [-0.1031],\n",
       " 'Siento que soy capaz de resolver problemas de la vida cotidiana de manera autónoma.': [-0.1049],\n",
       " 'Aprendo constantemente sobre cómo mejorar mi capacidad para realizar actividades de forma independiente.': [-0.105],\n",
       " 'Puedo lograr identificar en detalle ciertos sonidos.': [-0.1084],\n",
       " 'Me siento tranquilo/a y relajado/a en la mayoría de los momentos del día.': [-0.1184],\n",
       " 'Puedo lograr identificar en detalle ciertos olores.': [-0.1225],\n",
       " 'Estoy satisfecho/a con la calidad de mi sueño y mi descanso.': [-0.123],\n",
       " 'Siento variaciones en mi equilibrio durante mi período.': [-0.1301],\n",
       " 'Me esfuerzo por hablar en un tono de voz \"normal\" o “adecuado” en situaciones sociales.': [-0.1419],\n",
       " 'Me siento satisfecho/a con mis relaciones personales y sociales.': [-0.1423],\n",
       " 'La manera en la que experimento el mundo me permite conectar de manera profunda con mis emociones.': [-0.144],\n",
       " 'Algunos olores me resultan fascinantes o interesantes.': [-0.1684],\n",
       " 'Creo que me ayudaría tener información sobre educación sexual integral.': [-0.181],\n",
       " 'Puedo lograr identificar en detalle ciertos sabores.': [-0.2048],\n",
       " 'Tengo dificultades para controlar mis impulsos o frenar mis respuestas automáticas.': [-0.234],\n",
       " 'Estoy satisfecho/a con mi nivel actual de energía y vitalidad.': [-0.2477],\n",
       " 'Percibo algunos cambios en la forma de percibir estímulos sensoriales vinculados a los sabores.': [-0.2711],\n",
       " 'Soy capaz de planificar y preparar comidas por mí mismo/a.': [-0.3104]}"
      ]
     },
     "execution_count": 20,
     "metadata": {},
     "output_type": "execute_result"
    }
   ],
   "source": [
    "ultimos_18"
   ]
  },
  {
   "cell_type": "markdown",
   "id": "1728bf59",
   "metadata": {},
   "source": [
    "## Encuesta reducida"
   ]
  },
  {
   "cell_type": "code",
   "execution_count": 21,
   "id": "b98f6b81",
   "metadata": {},
   "outputs": [
    {
     "data": {
      "text/plain": [
       "['A veces me gustaría no ser autista.',\n",
       " 'Imito los gestos y comportamientos de los demás para encajar.',\n",
       " 'Me puedo interesar intensamente por temas puntuales y adquirir cierta expertiz desde lo teórico/práctico.',\n",
       " 'Tengo movimientos o comportamientos repetitivos, como mover las manos o pies.',\n",
       " 'Mi honestidad y autenticidad me permiten expresar mis pensamientos y emociones de manera directa y sincera.',\n",
       " 'Me he relacionado de manera romántica.',\n",
       " 'Suelo balancearme o mover las piernas.',\n",
       " 'Evito actividades que me gustan para evitar ser juzgado/a.',\n",
       " 'No entiendo las normas sociales en diferentes situaciones.',\n",
       " 'Tengo dificultades para filtrar o ignorar los estímulos sensoriales.',\n",
       " 'Los ruidos fuertes o inesperados me afectan más de lo que parecen afectar a los demás.',\n",
       " 'Me siento abrumado/a cuando tengo muchas tareas pendientes.',\n",
       " 'Me preocupa que los demás noten mis dificultades sociales o comportamientos inusuales.',\n",
       " 'Siento que estoy progresando hacia mis metas y objetivos personales.',\n",
       " 'Me siento en control de mi vida y de mis decisiones.',\n",
       " 'Me gusta jugar con objetos pequeños o texturas de la ropa.',\n",
       " 'Prefiero seguir las mismas actividades y evitar cambios repentinos.',\n",
       " 'Tengo dificultades para establecer prioridades y decidir qué tareas abordar primero en mi lista de cosas por hacer.',\n",
       " 'Me resulta complicado mantener la concentración en una tarea por largos períodos de tiempo.',\n",
       " 'Siento que soy capaz de resolver problemas de la vida cotidiana de manera autónoma.',\n",
       " 'Aprendo constantemente sobre cómo mejorar mi capacidad para realizar actividades de forma independiente.',\n",
       " 'Puedo lograr identificar en detalle ciertos sonidos.',\n",
       " 'Me siento tranquilo/a y relajado/a en la mayoría de los momentos del día.',\n",
       " 'Puedo lograr identificar en detalle ciertos olores.',\n",
       " 'Estoy satisfecho/a con la calidad de mi sueño y mi descanso.',\n",
       " 'Siento variaciones en mi equilibrio durante mi período.',\n",
       " 'Me esfuerzo por hablar en un tono de voz \"normal\" o “adecuado” en situaciones sociales.',\n",
       " 'Me siento satisfecho/a con mis relaciones personales y sociales.',\n",
       " 'La manera en la que experimento el mundo me permite conectar de manera profunda con mis emociones.',\n",
       " 'Algunos olores me resultan fascinantes o interesantes.',\n",
       " 'Creo que me ayudaría tener información sobre educación sexual integral.',\n",
       " 'Puedo lograr identificar en detalle ciertos sabores.',\n",
       " 'Tengo dificultades para controlar mis impulsos o frenar mis respuestas automáticas.',\n",
       " 'Estoy satisfecho/a con mi nivel actual de energía y vitalidad.',\n",
       " 'Percibo algunos cambios en la forma de percibir estímulos sensoriales vinculados a los sabores.',\n",
       " 'Soy capaz de planificar y preparar comidas por mí mismo/a.']"
      ]
     },
     "execution_count": 21,
     "metadata": {},
     "output_type": "execute_result"
    }
   ],
   "source": [
    "preguntas_encuesta_reducida"
   ]
  },
  {
   "cell_type": "code",
   "execution_count": 22,
   "id": "e0c385e2",
   "metadata": {},
   "outputs": [],
   "source": [
    "df_encuesta_reducida = df[['Diagnostico_autismo'] + preguntas_encuesta_reducida]"
   ]
  },
  {
   "cell_type": "code",
   "execution_count": 23,
   "id": "166ccb12",
   "metadata": {},
   "outputs": [
    {
     "data": {
      "text/html": [
       "<div>\n",
       "<style scoped>\n",
       "    .dataframe tbody tr th:only-of-type {\n",
       "        vertical-align: middle;\n",
       "    }\n",
       "\n",
       "    .dataframe tbody tr th {\n",
       "        vertical-align: top;\n",
       "    }\n",
       "\n",
       "    .dataframe thead th {\n",
       "        text-align: right;\n",
       "    }\n",
       "</style>\n",
       "<table border=\"1\" class=\"dataframe\">\n",
       "  <thead>\n",
       "    <tr style=\"text-align: right;\">\n",
       "      <th></th>\n",
       "      <th>Diagnostico_autismo</th>\n",
       "      <th>A veces me gustaría no ser autista.</th>\n",
       "      <th>Imito los gestos y comportamientos de los demás para encajar.</th>\n",
       "      <th>Me puedo interesar intensamente por temas puntuales y adquirir cierta expertiz desde lo teórico/práctico.</th>\n",
       "      <th>Tengo movimientos o comportamientos repetitivos, como mover las manos o pies.</th>\n",
       "      <th>Mi honestidad y autenticidad me permiten expresar mis pensamientos y emociones de manera directa y sincera.</th>\n",
       "      <th>Me he relacionado de manera romántica.</th>\n",
       "      <th>Suelo balancearme o mover las piernas.</th>\n",
       "      <th>Evito actividades que me gustan para evitar ser juzgado/a.</th>\n",
       "      <th>No entiendo las normas sociales en diferentes situaciones.</th>\n",
       "      <th>...</th>\n",
       "      <th>Me esfuerzo por hablar en un tono de voz \"normal\" o “adecuado” en situaciones sociales.</th>\n",
       "      <th>Me siento satisfecho/a con mis relaciones personales y sociales.</th>\n",
       "      <th>La manera en la que experimento el mundo me permite conectar de manera profunda con mis emociones.</th>\n",
       "      <th>Algunos olores me resultan fascinantes o interesantes.</th>\n",
       "      <th>Creo que me ayudaría tener información sobre educación sexual integral.</th>\n",
       "      <th>Puedo lograr identificar en detalle ciertos sabores.</th>\n",
       "      <th>Tengo dificultades para controlar mis impulsos o frenar mis respuestas automáticas.</th>\n",
       "      <th>Estoy satisfecho/a con mi nivel actual de energía y vitalidad.</th>\n",
       "      <th>Percibo algunos cambios en la forma de percibir estímulos sensoriales vinculados a los sabores.</th>\n",
       "      <th>Soy capaz de planificar y preparar comidas por mí mismo/a.</th>\n",
       "    </tr>\n",
       "  </thead>\n",
       "  <tbody>\n",
       "    <tr>\n",
       "      <th>0</th>\n",
       "      <td>1</td>\n",
       "      <td>1</td>\n",
       "      <td>2</td>\n",
       "      <td>5</td>\n",
       "      <td>5</td>\n",
       "      <td>4</td>\n",
       "      <td>4</td>\n",
       "      <td>1</td>\n",
       "      <td>4</td>\n",
       "      <td>4</td>\n",
       "      <td>...</td>\n",
       "      <td>1</td>\n",
       "      <td>2</td>\n",
       "      <td>5</td>\n",
       "      <td>5</td>\n",
       "      <td>1</td>\n",
       "      <td>5</td>\n",
       "      <td>1</td>\n",
       "      <td>4</td>\n",
       "      <td>1</td>\n",
       "      <td>4</td>\n",
       "    </tr>\n",
       "    <tr>\n",
       "      <th>1</th>\n",
       "      <td>1</td>\n",
       "      <td>4</td>\n",
       "      <td>5</td>\n",
       "      <td>5</td>\n",
       "      <td>5</td>\n",
       "      <td>5</td>\n",
       "      <td>5</td>\n",
       "      <td>5</td>\n",
       "      <td>2</td>\n",
       "      <td>5</td>\n",
       "      <td>...</td>\n",
       "      <td>5</td>\n",
       "      <td>4</td>\n",
       "      <td>5</td>\n",
       "      <td>5</td>\n",
       "      <td>4</td>\n",
       "      <td>4</td>\n",
       "      <td>4</td>\n",
       "      <td>2</td>\n",
       "      <td>3</td>\n",
       "      <td>5</td>\n",
       "    </tr>\n",
       "    <tr>\n",
       "      <th>2</th>\n",
       "      <td>1</td>\n",
       "      <td>3</td>\n",
       "      <td>5</td>\n",
       "      <td>5</td>\n",
       "      <td>5</td>\n",
       "      <td>5</td>\n",
       "      <td>5</td>\n",
       "      <td>5</td>\n",
       "      <td>5</td>\n",
       "      <td>4</td>\n",
       "      <td>...</td>\n",
       "      <td>2</td>\n",
       "      <td>4</td>\n",
       "      <td>5</td>\n",
       "      <td>5</td>\n",
       "      <td>5</td>\n",
       "      <td>4</td>\n",
       "      <td>5</td>\n",
       "      <td>2</td>\n",
       "      <td>5</td>\n",
       "      <td>3</td>\n",
       "    </tr>\n",
       "    <tr>\n",
       "      <th>3</th>\n",
       "      <td>1</td>\n",
       "      <td>5</td>\n",
       "      <td>4</td>\n",
       "      <td>4</td>\n",
       "      <td>4</td>\n",
       "      <td>4</td>\n",
       "      <td>4</td>\n",
       "      <td>4</td>\n",
       "      <td>4</td>\n",
       "      <td>4</td>\n",
       "      <td>...</td>\n",
       "      <td>4</td>\n",
       "      <td>2</td>\n",
       "      <td>3</td>\n",
       "      <td>3</td>\n",
       "      <td>1</td>\n",
       "      <td>3</td>\n",
       "      <td>5</td>\n",
       "      <td>2</td>\n",
       "      <td>2</td>\n",
       "      <td>5</td>\n",
       "    </tr>\n",
       "    <tr>\n",
       "      <th>4</th>\n",
       "      <td>1</td>\n",
       "      <td>5</td>\n",
       "      <td>4</td>\n",
       "      <td>4</td>\n",
       "      <td>2</td>\n",
       "      <td>4</td>\n",
       "      <td>4</td>\n",
       "      <td>4</td>\n",
       "      <td>2</td>\n",
       "      <td>2</td>\n",
       "      <td>...</td>\n",
       "      <td>2</td>\n",
       "      <td>2</td>\n",
       "      <td>2</td>\n",
       "      <td>2</td>\n",
       "      <td>4</td>\n",
       "      <td>2</td>\n",
       "      <td>1</td>\n",
       "      <td>2</td>\n",
       "      <td>2</td>\n",
       "      <td>4</td>\n",
       "    </tr>\n",
       "    <tr>\n",
       "      <th>...</th>\n",
       "      <td>...</td>\n",
       "      <td>...</td>\n",
       "      <td>...</td>\n",
       "      <td>...</td>\n",
       "      <td>...</td>\n",
       "      <td>...</td>\n",
       "      <td>...</td>\n",
       "      <td>...</td>\n",
       "      <td>...</td>\n",
       "      <td>...</td>\n",
       "      <td>...</td>\n",
       "      <td>...</td>\n",
       "      <td>...</td>\n",
       "      <td>...</td>\n",
       "      <td>...</td>\n",
       "      <td>...</td>\n",
       "      <td>...</td>\n",
       "      <td>...</td>\n",
       "      <td>...</td>\n",
       "      <td>...</td>\n",
       "      <td>...</td>\n",
       "    </tr>\n",
       "    <tr>\n",
       "      <th>61</th>\n",
       "      <td>1</td>\n",
       "      <td>4</td>\n",
       "      <td>4</td>\n",
       "      <td>5</td>\n",
       "      <td>5</td>\n",
       "      <td>3</td>\n",
       "      <td>4</td>\n",
       "      <td>4</td>\n",
       "      <td>4</td>\n",
       "      <td>4</td>\n",
       "      <td>...</td>\n",
       "      <td>5</td>\n",
       "      <td>2</td>\n",
       "      <td>4</td>\n",
       "      <td>4</td>\n",
       "      <td>3</td>\n",
       "      <td>4</td>\n",
       "      <td>4</td>\n",
       "      <td>2</td>\n",
       "      <td>3</td>\n",
       "      <td>4</td>\n",
       "    </tr>\n",
       "    <tr>\n",
       "      <th>62</th>\n",
       "      <td>1</td>\n",
       "      <td>1</td>\n",
       "      <td>4</td>\n",
       "      <td>5</td>\n",
       "      <td>5</td>\n",
       "      <td>5</td>\n",
       "      <td>5</td>\n",
       "      <td>5</td>\n",
       "      <td>5</td>\n",
       "      <td>5</td>\n",
       "      <td>...</td>\n",
       "      <td>5</td>\n",
       "      <td>5</td>\n",
       "      <td>5</td>\n",
       "      <td>5</td>\n",
       "      <td>3</td>\n",
       "      <td>5</td>\n",
       "      <td>5</td>\n",
       "      <td>5</td>\n",
       "      <td>2</td>\n",
       "      <td>5</td>\n",
       "    </tr>\n",
       "    <tr>\n",
       "      <th>63</th>\n",
       "      <td>0</td>\n",
       "      <td>3</td>\n",
       "      <td>2</td>\n",
       "      <td>5</td>\n",
       "      <td>4</td>\n",
       "      <td>2</td>\n",
       "      <td>4</td>\n",
       "      <td>4</td>\n",
       "      <td>1</td>\n",
       "      <td>2</td>\n",
       "      <td>...</td>\n",
       "      <td>4</td>\n",
       "      <td>2</td>\n",
       "      <td>4</td>\n",
       "      <td>5</td>\n",
       "      <td>4</td>\n",
       "      <td>2</td>\n",
       "      <td>4</td>\n",
       "      <td>5</td>\n",
       "      <td>1</td>\n",
       "      <td>5</td>\n",
       "    </tr>\n",
       "    <tr>\n",
       "      <th>64</th>\n",
       "      <td>0</td>\n",
       "      <td>1</td>\n",
       "      <td>2</td>\n",
       "      <td>4</td>\n",
       "      <td>4</td>\n",
       "      <td>4</td>\n",
       "      <td>2</td>\n",
       "      <td>4</td>\n",
       "      <td>2</td>\n",
       "      <td>2</td>\n",
       "      <td>...</td>\n",
       "      <td>4</td>\n",
       "      <td>2</td>\n",
       "      <td>3</td>\n",
       "      <td>4</td>\n",
       "      <td>4</td>\n",
       "      <td>4</td>\n",
       "      <td>4</td>\n",
       "      <td>3</td>\n",
       "      <td>4</td>\n",
       "      <td>4</td>\n",
       "    </tr>\n",
       "    <tr>\n",
       "      <th>65</th>\n",
       "      <td>0</td>\n",
       "      <td>3</td>\n",
       "      <td>2</td>\n",
       "      <td>3</td>\n",
       "      <td>3</td>\n",
       "      <td>4</td>\n",
       "      <td>4</td>\n",
       "      <td>2</td>\n",
       "      <td>2</td>\n",
       "      <td>2</td>\n",
       "      <td>...</td>\n",
       "      <td>2</td>\n",
       "      <td>4</td>\n",
       "      <td>4</td>\n",
       "      <td>4</td>\n",
       "      <td>4</td>\n",
       "      <td>4</td>\n",
       "      <td>2</td>\n",
       "      <td>4</td>\n",
       "      <td>2</td>\n",
       "      <td>4</td>\n",
       "    </tr>\n",
       "  </tbody>\n",
       "</table>\n",
       "<p>66 rows × 37 columns</p>\n",
       "</div>"
      ],
      "text/plain": [
       "    Diagnostico_autismo  A veces me gustaría no ser autista.  \\\n",
       "0                     1                                    1   \n",
       "1                     1                                    4   \n",
       "2                     1                                    3   \n",
       "3                     1                                    5   \n",
       "4                     1                                    5   \n",
       "..                  ...                                  ...   \n",
       "61                    1                                    4   \n",
       "62                    1                                    1   \n",
       "63                    0                                    3   \n",
       "64                    0                                    1   \n",
       "65                    0                                    3   \n",
       "\n",
       "    Imito los gestos y comportamientos de los demás para encajar.  \\\n",
       "0                                                   2               \n",
       "1                                                   5               \n",
       "2                                                   5               \n",
       "3                                                   4               \n",
       "4                                                   4               \n",
       "..                                                ...               \n",
       "61                                                  4               \n",
       "62                                                  4               \n",
       "63                                                  2               \n",
       "64                                                  2               \n",
       "65                                                  2               \n",
       "\n",
       "    Me puedo interesar intensamente por temas puntuales y adquirir cierta expertiz desde lo teórico/práctico.  \\\n",
       "0                                                   5                                                           \n",
       "1                                                   5                                                           \n",
       "2                                                   5                                                           \n",
       "3                                                   4                                                           \n",
       "4                                                   4                                                           \n",
       "..                                                ...                                                           \n",
       "61                                                  5                                                           \n",
       "62                                                  5                                                           \n",
       "63                                                  5                                                           \n",
       "64                                                  4                                                           \n",
       "65                                                  3                                                           \n",
       "\n",
       "    Tengo movimientos o comportamientos repetitivos, como mover las manos o pies.  \\\n",
       "0                                                   5                               \n",
       "1                                                   5                               \n",
       "2                                                   5                               \n",
       "3                                                   4                               \n",
       "4                                                   2                               \n",
       "..                                                ...                               \n",
       "61                                                  5                               \n",
       "62                                                  5                               \n",
       "63                                                  4                               \n",
       "64                                                  4                               \n",
       "65                                                  3                               \n",
       "\n",
       "    Mi honestidad y autenticidad me permiten expresar mis pensamientos y emociones de manera directa y sincera.  \\\n",
       "0                                                   4                                                             \n",
       "1                                                   5                                                             \n",
       "2                                                   5                                                             \n",
       "3                                                   4                                                             \n",
       "4                                                   4                                                             \n",
       "..                                                ...                                                             \n",
       "61                                                  3                                                             \n",
       "62                                                  5                                                             \n",
       "63                                                  2                                                             \n",
       "64                                                  4                                                             \n",
       "65                                                  4                                                             \n",
       "\n",
       "    Me he relacionado de manera romántica.  \\\n",
       "0                                        4   \n",
       "1                                        5   \n",
       "2                                        5   \n",
       "3                                        4   \n",
       "4                                        4   \n",
       "..                                     ...   \n",
       "61                                       4   \n",
       "62                                       5   \n",
       "63                                       4   \n",
       "64                                       2   \n",
       "65                                       4   \n",
       "\n",
       "    Suelo balancearme o mover las piernas.  \\\n",
       "0                                        1   \n",
       "1                                        5   \n",
       "2                                        5   \n",
       "3                                        4   \n",
       "4                                        4   \n",
       "..                                     ...   \n",
       "61                                       4   \n",
       "62                                       5   \n",
       "63                                       4   \n",
       "64                                       4   \n",
       "65                                       2   \n",
       "\n",
       "    Evito actividades que me gustan para evitar ser juzgado/a.  \\\n",
       "0                                                   4            \n",
       "1                                                   2            \n",
       "2                                                   5            \n",
       "3                                                   4            \n",
       "4                                                   2            \n",
       "..                                                ...            \n",
       "61                                                  4            \n",
       "62                                                  5            \n",
       "63                                                  1            \n",
       "64                                                  2            \n",
       "65                                                  2            \n",
       "\n",
       "    No entiendo las normas sociales en diferentes situaciones.  ...  \\\n",
       "0                                                   4           ...   \n",
       "1                                                   5           ...   \n",
       "2                                                   4           ...   \n",
       "3                                                   4           ...   \n",
       "4                                                   2           ...   \n",
       "..                                                ...           ...   \n",
       "61                                                  4           ...   \n",
       "62                                                  5           ...   \n",
       "63                                                  2           ...   \n",
       "64                                                  2           ...   \n",
       "65                                                  2           ...   \n",
       "\n",
       "    Me esfuerzo por hablar en un tono de voz \"normal\" o “adecuado” en situaciones sociales.  \\\n",
       "0                                                   1                                         \n",
       "1                                                   5                                         \n",
       "2                                                   2                                         \n",
       "3                                                   4                                         \n",
       "4                                                   2                                         \n",
       "..                                                ...                                         \n",
       "61                                                  5                                         \n",
       "62                                                  5                                         \n",
       "63                                                  4                                         \n",
       "64                                                  4                                         \n",
       "65                                                  2                                         \n",
       "\n",
       "    Me siento satisfecho/a con mis relaciones personales y sociales.  \\\n",
       "0                                                   2                  \n",
       "1                                                   4                  \n",
       "2                                                   4                  \n",
       "3                                                   2                  \n",
       "4                                                   2                  \n",
       "..                                                ...                  \n",
       "61                                                  2                  \n",
       "62                                                  5                  \n",
       "63                                                  2                  \n",
       "64                                                  2                  \n",
       "65                                                  4                  \n",
       "\n",
       "    La manera en la que experimento el mundo me permite conectar de manera profunda con mis emociones.  \\\n",
       "0                                                   5                                                    \n",
       "1                                                   5                                                    \n",
       "2                                                   5                                                    \n",
       "3                                                   3                                                    \n",
       "4                                                   2                                                    \n",
       "..                                                ...                                                    \n",
       "61                                                  4                                                    \n",
       "62                                                  5                                                    \n",
       "63                                                  4                                                    \n",
       "64                                                  3                                                    \n",
       "65                                                  4                                                    \n",
       "\n",
       "    Algunos olores me resultan fascinantes o interesantes.  \\\n",
       "0                                                   5        \n",
       "1                                                   5        \n",
       "2                                                   5        \n",
       "3                                                   3        \n",
       "4                                                   2        \n",
       "..                                                ...        \n",
       "61                                                  4        \n",
       "62                                                  5        \n",
       "63                                                  5        \n",
       "64                                                  4        \n",
       "65                                                  4        \n",
       "\n",
       "    Creo que me ayudaría tener información sobre educación sexual integral.  \\\n",
       "0                                                   1                         \n",
       "1                                                   4                         \n",
       "2                                                   5                         \n",
       "3                                                   1                         \n",
       "4                                                   4                         \n",
       "..                                                ...                         \n",
       "61                                                  3                         \n",
       "62                                                  3                         \n",
       "63                                                  4                         \n",
       "64                                                  4                         \n",
       "65                                                  4                         \n",
       "\n",
       "    Puedo lograr identificar en detalle ciertos sabores.  \\\n",
       "0                                                   5      \n",
       "1                                                   4      \n",
       "2                                                   4      \n",
       "3                                                   3      \n",
       "4                                                   2      \n",
       "..                                                ...      \n",
       "61                                                  4      \n",
       "62                                                  5      \n",
       "63                                                  2      \n",
       "64                                                  4      \n",
       "65                                                  4      \n",
       "\n",
       "    Tengo dificultades para controlar mis impulsos o frenar mis respuestas automáticas.  \\\n",
       "0                                                   1                                     \n",
       "1                                                   4                                     \n",
       "2                                                   5                                     \n",
       "3                                                   5                                     \n",
       "4                                                   1                                     \n",
       "..                                                ...                                     \n",
       "61                                                  4                                     \n",
       "62                                                  5                                     \n",
       "63                                                  4                                     \n",
       "64                                                  4                                     \n",
       "65                                                  2                                     \n",
       "\n",
       "    Estoy satisfecho/a con mi nivel actual de energía y vitalidad.  \\\n",
       "0                                                   4                \n",
       "1                                                   2                \n",
       "2                                                   2                \n",
       "3                                                   2                \n",
       "4                                                   2                \n",
       "..                                                ...                \n",
       "61                                                  2                \n",
       "62                                                  5                \n",
       "63                                                  5                \n",
       "64                                                  3                \n",
       "65                                                  4                \n",
       "\n",
       "    Percibo algunos cambios en la forma de percibir estímulos sensoriales vinculados a los sabores.  \\\n",
       "0                                                   1                                                 \n",
       "1                                                   3                                                 \n",
       "2                                                   5                                                 \n",
       "3                                                   2                                                 \n",
       "4                                                   2                                                 \n",
       "..                                                ...                                                 \n",
       "61                                                  3                                                 \n",
       "62                                                  2                                                 \n",
       "63                                                  1                                                 \n",
       "64                                                  4                                                 \n",
       "65                                                  2                                                 \n",
       "\n",
       "    Soy capaz de planificar y preparar comidas por mí mismo/a.  \n",
       "0                                                   4           \n",
       "1                                                   5           \n",
       "2                                                   3           \n",
       "3                                                   5           \n",
       "4                                                   4           \n",
       "..                                                ...           \n",
       "61                                                  4           \n",
       "62                                                  5           \n",
       "63                                                  5           \n",
       "64                                                  4           \n",
       "65                                                  4           \n",
       "\n",
       "[66 rows x 37 columns]"
      ]
     },
     "execution_count": 23,
     "metadata": {},
     "output_type": "execute_result"
    }
   ],
   "source": [
    "df_encuesta_reducida"
   ]
  },
  {
   "cell_type": "markdown",
   "id": "091c2ac1",
   "metadata": {},
   "source": [
    "## Nuevo modelo "
   ]
  },
  {
   "cell_type": "code",
   "execution_count": 24,
   "id": "220cdb12",
   "metadata": {},
   "outputs": [],
   "source": [
    "X_nuevo = df_encuesta_reducida.drop(\"Diagnostico_autismo\", axis=1)\n",
    "y_nuevo = df_encuesta_reducida[\"Diagnostico_autismo\"]"
   ]
  },
  {
   "cell_type": "code",
   "execution_count": 25,
   "id": "516e42b5",
   "metadata": {},
   "outputs": [],
   "source": [
    "X_train_n, X_test_n, y_train_n, y_test_n = train_test_split(X_nuevo, y_nuevo, test_size=0.2, stratify=y_nuevo)"
   ]
  },
  {
   "cell_type": "code",
   "execution_count": 26,
   "id": "46b2ab11",
   "metadata": {},
   "outputs": [],
   "source": [
    "scaler = StandardScaler()\n",
    "X_train_scaled_n = scaler.fit_transform(X_train_n)\n",
    "X_test_scaled_n = scaler.transform(X_test_n)"
   ]
  },
  {
   "cell_type": "code",
   "execution_count": 27,
   "id": "ffc04cf5",
   "metadata": {},
   "outputs": [],
   "source": [
    "new_logistic_model = LogisticRegression()"
   ]
  },
  {
   "cell_type": "code",
   "execution_count": 28,
   "id": "fb76461a",
   "metadata": {},
   "outputs": [
    {
     "data": {
      "text/html": [
       "<style>#sk-container-id-2 {color: black;}#sk-container-id-2 pre{padding: 0;}#sk-container-id-2 div.sk-toggleable {background-color: white;}#sk-container-id-2 label.sk-toggleable__label {cursor: pointer;display: block;width: 100%;margin-bottom: 0;padding: 0.3em;box-sizing: border-box;text-align: center;}#sk-container-id-2 label.sk-toggleable__label-arrow:before {content: \"▸\";float: left;margin-right: 0.25em;color: #696969;}#sk-container-id-2 label.sk-toggleable__label-arrow:hover:before {color: black;}#sk-container-id-2 div.sk-estimator:hover label.sk-toggleable__label-arrow:before {color: black;}#sk-container-id-2 div.sk-toggleable__content {max-height: 0;max-width: 0;overflow: hidden;text-align: left;background-color: #f0f8ff;}#sk-container-id-2 div.sk-toggleable__content pre {margin: 0.2em;color: black;border-radius: 0.25em;background-color: #f0f8ff;}#sk-container-id-2 input.sk-toggleable__control:checked~div.sk-toggleable__content {max-height: 200px;max-width: 100%;overflow: auto;}#sk-container-id-2 input.sk-toggleable__control:checked~label.sk-toggleable__label-arrow:before {content: \"▾\";}#sk-container-id-2 div.sk-estimator input.sk-toggleable__control:checked~label.sk-toggleable__label {background-color: #d4ebff;}#sk-container-id-2 div.sk-label input.sk-toggleable__control:checked~label.sk-toggleable__label {background-color: #d4ebff;}#sk-container-id-2 input.sk-hidden--visually {border: 0;clip: rect(1px 1px 1px 1px);clip: rect(1px, 1px, 1px, 1px);height: 1px;margin: -1px;overflow: hidden;padding: 0;position: absolute;width: 1px;}#sk-container-id-2 div.sk-estimator {font-family: monospace;background-color: #f0f8ff;border: 1px dotted black;border-radius: 0.25em;box-sizing: border-box;margin-bottom: 0.5em;}#sk-container-id-2 div.sk-estimator:hover {background-color: #d4ebff;}#sk-container-id-2 div.sk-parallel-item::after {content: \"\";width: 100%;border-bottom: 1px solid gray;flex-grow: 1;}#sk-container-id-2 div.sk-label:hover label.sk-toggleable__label {background-color: #d4ebff;}#sk-container-id-2 div.sk-serial::before {content: \"\";position: absolute;border-left: 1px solid gray;box-sizing: border-box;top: 0;bottom: 0;left: 50%;z-index: 0;}#sk-container-id-2 div.sk-serial {display: flex;flex-direction: column;align-items: center;background-color: white;padding-right: 0.2em;padding-left: 0.2em;position: relative;}#sk-container-id-2 div.sk-item {position: relative;z-index: 1;}#sk-container-id-2 div.sk-parallel {display: flex;align-items: stretch;justify-content: center;background-color: white;position: relative;}#sk-container-id-2 div.sk-item::before, #sk-container-id-2 div.sk-parallel-item::before {content: \"\";position: absolute;border-left: 1px solid gray;box-sizing: border-box;top: 0;bottom: 0;left: 50%;z-index: -1;}#sk-container-id-2 div.sk-parallel-item {display: flex;flex-direction: column;z-index: 1;position: relative;background-color: white;}#sk-container-id-2 div.sk-parallel-item:first-child::after {align-self: flex-end;width: 50%;}#sk-container-id-2 div.sk-parallel-item:last-child::after {align-self: flex-start;width: 50%;}#sk-container-id-2 div.sk-parallel-item:only-child::after {width: 0;}#sk-container-id-2 div.sk-dashed-wrapped {border: 1px dashed gray;margin: 0 0.4em 0.5em 0.4em;box-sizing: border-box;padding-bottom: 0.4em;background-color: white;}#sk-container-id-2 div.sk-label label {font-family: monospace;font-weight: bold;display: inline-block;line-height: 1.2em;}#sk-container-id-2 div.sk-label-container {text-align: center;}#sk-container-id-2 div.sk-container {/* jupyter's `normalize.less` sets `[hidden] { display: none; }` but bootstrap.min.css set `[hidden] { display: none !important; }` so we also need the `!important` here to be able to override the default hidden behavior on the sphinx rendered scikit-learn.org. See: https://github.com/scikit-learn/scikit-learn/issues/21755 */display: inline-block !important;position: relative;}#sk-container-id-2 div.sk-text-repr-fallback {display: none;}</style><div id=\"sk-container-id-2\" class=\"sk-top-container\"><div class=\"sk-text-repr-fallback\"><pre>LogisticRegression()</pre><b>In a Jupyter environment, please rerun this cell to show the HTML representation or trust the notebook. <br />On GitHub, the HTML representation is unable to render, please try loading this page with nbviewer.org.</b></div><div class=\"sk-container\" hidden><div class=\"sk-item\"><div class=\"sk-estimator sk-toggleable\"><input class=\"sk-toggleable__control sk-hidden--visually\" id=\"sk-estimator-id-2\" type=\"checkbox\" checked><label for=\"sk-estimator-id-2\" class=\"sk-toggleable__label sk-toggleable__label-arrow\">LogisticRegression</label><div class=\"sk-toggleable__content\"><pre>LogisticRegression()</pre></div></div></div></div></div>"
      ],
      "text/plain": [
       "LogisticRegression()"
      ]
     },
     "execution_count": 28,
     "metadata": {},
     "output_type": "execute_result"
    }
   ],
   "source": [
    "new_logistic_model.fit(X_train_scaled_n, y_train_n)"
   ]
  },
  {
   "cell_type": "code",
   "execution_count": 29,
   "id": "94291902",
   "metadata": {},
   "outputs": [],
   "source": [
    "y_pred_logistic_new = new_logistic_model.predict(X_test_scaled_n) "
   ]
  },
  {
   "cell_type": "markdown",
   "id": "953eeff3",
   "metadata": {},
   "source": [
    "## Evaluación nuevo modelo"
   ]
  },
  {
   "cell_type": "code",
   "execution_count": 30,
   "id": "5686b12b",
   "metadata": {},
   "outputs": [
    {
     "name": "stdout",
     "output_type": "stream",
     "text": [
      "Accuracy - Regresión Logística: 0.9285714285714286\n"
     ]
    }
   ],
   "source": [
    "new_accuracy_logistic = accuracy_score(y_test_n, y_pred_logistic_new)\n",
    "print(f\"Accuracy - Regresión Logística: {new_accuracy_logistic}\")"
   ]
  },
  {
   "cell_type": "code",
   "execution_count": 31,
   "id": "d608622b",
   "metadata": {},
   "outputs": [
    {
     "name": "stdout",
     "output_type": "stream",
     "text": [
      "Confusion Matrix:\n",
      "[[4 1]\n",
      " [0 9]]\n"
     ]
    }
   ],
   "source": [
    "new_conf_matrix_logistic = confusion_matrix(y_test_n, y_pred_logistic_new)\n",
    "print(\"Confusion Matrix:\")\n",
    "print(new_conf_matrix_logistic)"
   ]
  },
  {
   "cell_type": "code",
   "execution_count": 32,
   "id": "7d144493",
   "metadata": {},
   "outputs": [
    {
     "name": "stdout",
     "output_type": "stream",
     "text": [
      "Classification Report:\n",
      "              precision    recall  f1-score   support\n",
      "\n",
      "           0       1.00      0.80      0.89         5\n",
      "           1       0.90      1.00      0.95         9\n",
      "\n",
      "    accuracy                           0.93        14\n",
      "   macro avg       0.95      0.90      0.92        14\n",
      "weighted avg       0.94      0.93      0.93        14\n",
      "\n"
     ]
    }
   ],
   "source": [
    "print(\"Classification Report:\")\n",
    "print(classification_report(y_test_n, y_pred_logistic_new))"
   ]
  },
  {
   "cell_type": "markdown",
   "id": "9c89159f",
   "metadata": {},
   "source": [
    "## Probabilidad de pertenencia a clase"
   ]
  },
  {
   "cell_type": "code",
   "execution_count": 33,
   "id": "8af69ed2",
   "metadata": {},
   "outputs": [],
   "source": [
    "probabilidad_clase = new_logistic_model.predict_proba(X_test_scaled_n)"
   ]
  },
  {
   "cell_type": "code",
   "execution_count": 34,
   "id": "6fd66a9f",
   "metadata": {},
   "outputs": [
    {
     "name": "stdout",
     "output_type": "stream",
     "text": [
      "Probabilidades de pertenencia a cada clase para el conjunto de datos\n",
      "[[0.91 0.09]\n",
      " [0.01 0.99]\n",
      " [0.02 0.98]\n",
      " [0.   1.  ]\n",
      " [0.01 0.99]\n",
      " [0.75 0.25]\n",
      " [0.97 0.03]\n",
      " [0.01 0.99]\n",
      " [0.18 0.82]\n",
      " [0.02 0.98]\n",
      " [0.41 0.59]\n",
      " [0.   1.  ]\n",
      " [0.81 0.19]\n",
      " [0.01 0.99]]\n"
     ]
    }
   ],
   "source": [
    "print(\"Probabilidades de pertenencia a cada clase para el conjunto de datos\")\n",
    "print(probabilidad_clase.round(2))"
   ]
  },
  {
   "cell_type": "markdown",
   "id": "5d11ad9b",
   "metadata": {},
   "source": [
    "## Coeficientes"
   ]
  },
  {
   "cell_type": "code",
   "execution_count": 35,
   "id": "0cb38656",
   "metadata": {},
   "outputs": [],
   "source": [
    "new_logistic_coefs = new_logistic_model.coef_\n",
    "new_logistic_intercept = new_logistic_model.intercept_"
   ]
  },
  {
   "cell_type": "code",
   "execution_count": 36,
   "id": "3cf3c7b1",
   "metadata": {},
   "outputs": [
    {
     "data": {
      "text/plain": [
       "array([[ 0.70483627,  0.50968943,  0.56621982,  0.19440074,  0.48082744,\n",
       "        -0.02404202,  0.43022361,  0.2771966 ,  0.66652148,  0.38515222,\n",
       "         0.32965379,  0.47159418,  0.36940407,  0.25586263,  0.26998875,\n",
       "         0.2389779 ,  0.26843033,  0.26364305, -0.04331072, -0.22825222,\n",
       "         0.01729386,  0.16522595, -0.27680774,  0.03608511,  0.27226074,\n",
       "        -0.12156344, -0.07466233, -0.41668204, -0.25467244,  0.02579423,\n",
       "        -0.15792114, -0.07515414,  0.16898241, -0.34327692, -0.17502601,\n",
       "        -0.42169571]])"
      ]
     },
     "execution_count": 36,
     "metadata": {},
     "output_type": "execute_result"
    }
   ],
   "source": [
    "new_logistic_coefs"
   ]
  },
  {
   "cell_type": "code",
   "execution_count": 37,
   "id": "17421e95",
   "metadata": {},
   "outputs": [],
   "source": [
    "new_coef_dict = {}"
   ]
  },
  {
   "cell_type": "code",
   "execution_count": 38,
   "id": "5a66f13a",
   "metadata": {},
   "outputs": [],
   "source": [
    "for idx, col in enumerate(X_nuevo.columns):\n",
    "    new_coef_dict[col] = [round(new_logistic_coefs[0][idx],4)]"
   ]
  },
  {
   "cell_type": "code",
   "execution_count": 39,
   "id": "a85deddc",
   "metadata": {},
   "outputs": [
    {
     "data": {
      "text/plain": [
       "{'A veces me gustaría no ser autista.': [0.7048],\n",
       " 'Imito los gestos y comportamientos de los demás para encajar.': [0.5097],\n",
       " 'Me puedo interesar intensamente por temas puntuales y adquirir cierta expertiz desde lo teórico/práctico.': [0.5662],\n",
       " 'Tengo movimientos o comportamientos repetitivos, como mover las manos o pies.': [0.1944],\n",
       " 'Mi honestidad y autenticidad me permiten expresar mis pensamientos y emociones de manera directa y sincera.': [0.4808],\n",
       " 'Me he relacionado de manera romántica.': [-0.024],\n",
       " 'Suelo balancearme o mover las piernas.': [0.4302],\n",
       " 'Evito actividades que me gustan para evitar ser juzgado/a.': [0.2772],\n",
       " 'No entiendo las normas sociales en diferentes situaciones.': [0.6665],\n",
       " 'Tengo dificultades para filtrar o ignorar los estímulos sensoriales.': [0.3852],\n",
       " 'Los ruidos fuertes o inesperados me afectan más de lo que parecen afectar a los demás.': [0.3297],\n",
       " 'Me siento abrumado/a cuando tengo muchas tareas pendientes.': [0.4716],\n",
       " 'Me preocupa que los demás noten mis dificultades sociales o comportamientos inusuales.': [0.3694],\n",
       " 'Siento que estoy progresando hacia mis metas y objetivos personales.': [0.2559],\n",
       " 'Me siento en control de mi vida y de mis decisiones.': [0.27],\n",
       " 'Me gusta jugar con objetos pequeños o texturas de la ropa.': [0.239],\n",
       " 'Prefiero seguir las mismas actividades y evitar cambios repentinos.': [0.2684],\n",
       " 'Tengo dificultades para establecer prioridades y decidir qué tareas abordar primero en mi lista de cosas por hacer.': [0.2636],\n",
       " 'Me resulta complicado mantener la concentración en una tarea por largos períodos de tiempo.': [-0.0433],\n",
       " 'Siento que soy capaz de resolver problemas de la vida cotidiana de manera autónoma.': [-0.2283],\n",
       " 'Aprendo constantemente sobre cómo mejorar mi capacidad para realizar actividades de forma independiente.': [0.0173],\n",
       " 'Puedo lograr identificar en detalle ciertos sonidos.': [0.1652],\n",
       " 'Me siento tranquilo/a y relajado/a en la mayoría de los momentos del día.': [-0.2768],\n",
       " 'Puedo lograr identificar en detalle ciertos olores.': [0.0361],\n",
       " 'Estoy satisfecho/a con la calidad de mi sueño y mi descanso.': [0.2723],\n",
       " 'Siento variaciones en mi equilibrio durante mi período.': [-0.1216],\n",
       " 'Me esfuerzo por hablar en un tono de voz \"normal\" o “adecuado” en situaciones sociales.': [-0.0747],\n",
       " 'Me siento satisfecho/a con mis relaciones personales y sociales.': [-0.4167],\n",
       " 'La manera en la que experimento el mundo me permite conectar de manera profunda con mis emociones.': [-0.2547],\n",
       " 'Algunos olores me resultan fascinantes o interesantes.': [0.0258],\n",
       " 'Creo que me ayudaría tener información sobre educación sexual integral.': [-0.1579],\n",
       " 'Puedo lograr identificar en detalle ciertos sabores.': [-0.0752],\n",
       " 'Tengo dificultades para controlar mis impulsos o frenar mis respuestas automáticas.': [0.169],\n",
       " 'Estoy satisfecho/a con mi nivel actual de energía y vitalidad.': [-0.3433],\n",
       " 'Percibo algunos cambios en la forma de percibir estímulos sensoriales vinculados a los sabores.': [-0.175],\n",
       " 'Soy capaz de planificar y preparar comidas por mí mismo/a.': [-0.4217]}"
      ]
     },
     "execution_count": 39,
     "metadata": {},
     "output_type": "execute_result"
    }
   ],
   "source": [
    "new_coef_dict"
   ]
  },
  {
   "cell_type": "code",
   "execution_count": 40,
   "id": "05726c89",
   "metadata": {},
   "outputs": [],
   "source": [
    "new_sorted_data = dict(sorted(new_coef_dict.items(), key=lambda x: x[1][0], reverse=True))"
   ]
  },
  {
   "cell_type": "code",
   "execution_count": 41,
   "id": "941c8018",
   "metadata": {},
   "outputs": [
    {
     "data": {
      "text/plain": [
       "{'A veces me gustaría no ser autista.': [0.7048],\n",
       " 'No entiendo las normas sociales en diferentes situaciones.': [0.6665],\n",
       " 'Me puedo interesar intensamente por temas puntuales y adquirir cierta expertiz desde lo teórico/práctico.': [0.5662],\n",
       " 'Imito los gestos y comportamientos de los demás para encajar.': [0.5097],\n",
       " 'Mi honestidad y autenticidad me permiten expresar mis pensamientos y emociones de manera directa y sincera.': [0.4808],\n",
       " 'Me siento abrumado/a cuando tengo muchas tareas pendientes.': [0.4716],\n",
       " 'Suelo balancearme o mover las piernas.': [0.4302],\n",
       " 'Tengo dificultades para filtrar o ignorar los estímulos sensoriales.': [0.3852],\n",
       " 'Me preocupa que los demás noten mis dificultades sociales o comportamientos inusuales.': [0.3694],\n",
       " 'Los ruidos fuertes o inesperados me afectan más de lo que parecen afectar a los demás.': [0.3297],\n",
       " 'Evito actividades que me gustan para evitar ser juzgado/a.': [0.2772],\n",
       " 'Estoy satisfecho/a con la calidad de mi sueño y mi descanso.': [0.2723],\n",
       " 'Me siento en control de mi vida y de mis decisiones.': [0.27],\n",
       " 'Prefiero seguir las mismas actividades y evitar cambios repentinos.': [0.2684],\n",
       " 'Tengo dificultades para establecer prioridades y decidir qué tareas abordar primero en mi lista de cosas por hacer.': [0.2636],\n",
       " 'Siento que estoy progresando hacia mis metas y objetivos personales.': [0.2559],\n",
       " 'Me gusta jugar con objetos pequeños o texturas de la ropa.': [0.239],\n",
       " 'Tengo movimientos o comportamientos repetitivos, como mover las manos o pies.': [0.1944],\n",
       " 'Tengo dificultades para controlar mis impulsos o frenar mis respuestas automáticas.': [0.169],\n",
       " 'Puedo lograr identificar en detalle ciertos sonidos.': [0.1652],\n",
       " 'Puedo lograr identificar en detalle ciertos olores.': [0.0361],\n",
       " 'Algunos olores me resultan fascinantes o interesantes.': [0.0258],\n",
       " 'Aprendo constantemente sobre cómo mejorar mi capacidad para realizar actividades de forma independiente.': [0.0173],\n",
       " 'Me he relacionado de manera romántica.': [-0.024],\n",
       " 'Me resulta complicado mantener la concentración en una tarea por largos períodos de tiempo.': [-0.0433],\n",
       " 'Me esfuerzo por hablar en un tono de voz \"normal\" o “adecuado” en situaciones sociales.': [-0.0747],\n",
       " 'Puedo lograr identificar en detalle ciertos sabores.': [-0.0752],\n",
       " 'Siento variaciones en mi equilibrio durante mi período.': [-0.1216],\n",
       " 'Creo que me ayudaría tener información sobre educación sexual integral.': [-0.1579],\n",
       " 'Percibo algunos cambios en la forma de percibir estímulos sensoriales vinculados a los sabores.': [-0.175],\n",
       " 'Siento que soy capaz de resolver problemas de la vida cotidiana de manera autónoma.': [-0.2283],\n",
       " 'La manera en la que experimento el mundo me permite conectar de manera profunda con mis emociones.': [-0.2547],\n",
       " 'Me siento tranquilo/a y relajado/a en la mayoría de los momentos del día.': [-0.2768],\n",
       " 'Estoy satisfecho/a con mi nivel actual de energía y vitalidad.': [-0.3433],\n",
       " 'Me siento satisfecho/a con mis relaciones personales y sociales.': [-0.4167],\n",
       " 'Soy capaz de planificar y preparar comidas por mí mismo/a.': [-0.4217]}"
      ]
     },
     "execution_count": 41,
     "metadata": {},
     "output_type": "execute_result"
    }
   ],
   "source": [
    "new_sorted_data"
   ]
  },
  {
   "cell_type": "code",
   "execution_count": 42,
   "id": "75d37ac9",
   "metadata": {},
   "outputs": [
    {
     "data": {
      "text/plain": [
       "array([1.05822702])"
      ]
     },
     "execution_count": 42,
     "metadata": {},
     "output_type": "execute_result"
    }
   ],
   "source": [
    "new_logistic_model.intercept_"
   ]
  },
  {
   "cell_type": "markdown",
   "id": "bad05a36",
   "metadata": {},
   "source": [
    "## Evaluación nuevo modelo en casos de sospecha de autismo"
   ]
  },
  {
   "cell_type": "code",
   "execution_count": 43,
   "id": "55030fc9",
   "metadata": {},
   "outputs": [],
   "source": [
    "df_sos = pd.read_excel(\"respuestas_mapeadas_sos.xlsx\")"
   ]
  },
  {
   "cell_type": "code",
   "execution_count": 44,
   "id": "ab37be3d",
   "metadata": {},
   "outputs": [],
   "source": [
    "df_sos.insert(0, 'Diagnostico_autismo', 1)"
   ]
  },
  {
   "cell_type": "code",
   "execution_count": 45,
   "id": "fc68591b",
   "metadata": {},
   "outputs": [],
   "source": [
    "df_encuesta_reducida_sos = df_sos[['Diagnostico_autismo'] + preguntas_encuesta_reducida]"
   ]
  },
  {
   "cell_type": "code",
   "execution_count": 46,
   "id": "0152745d",
   "metadata": {},
   "outputs": [],
   "source": [
    "X_sos = df_encuesta_reducida_sos.drop(\"Diagnostico_autismo\", axis=1)\n",
    "scaler.fit(X_sos)\n",
    "X_sos_scaled = scaler.transform(X_sos)\n",
    "y_pred_sos = new_logistic_model.predict(X_sos_scaled)"
   ]
  },
  {
   "cell_type": "code",
   "execution_count": 47,
   "id": "e42020a3",
   "metadata": {},
   "outputs": [
    {
     "name": "stdout",
     "output_type": "stream",
     "text": [
      "Accuracy en el conjunto de datos de sospecha de autismo: 0.5555555555555556\n"
     ]
    }
   ],
   "source": [
    "accuracy_sos = accuracy_score(df_sos[\"Diagnostico_autismo\"], y_pred_sos)\n",
    "print(f\"Accuracy en el conjunto de datos de sospecha de autismo: {accuracy_sos}\")"
   ]
  },
  {
   "cell_type": "code",
   "execution_count": 48,
   "id": "6a66339d",
   "metadata": {},
   "outputs": [
    {
     "name": "stdout",
     "output_type": "stream",
     "text": [
      "Confusion Matrix en el conjunto de datos de sospecha de autismo:\n",
      "[[0 0]\n",
      " [4 5]]\n"
     ]
    }
   ],
   "source": [
    "conf_matrix_sos = confusion_matrix(df_sos[\"Diagnostico_autismo\"], y_pred_sos)\n",
    "print(\"Confusion Matrix en el conjunto de datos de sospecha de autismo:\")\n",
    "print(conf_matrix_sos)"
   ]
  },
  {
   "cell_type": "code",
   "execution_count": 49,
   "id": "a52c7925",
   "metadata": {},
   "outputs": [
    {
     "name": "stdout",
     "output_type": "stream",
     "text": [
      "Classification Report en el conjunto de datos de sospecha de autismo:\n",
      "              precision    recall  f1-score   support\n",
      "\n",
      "           0       0.00      0.00      0.00         0\n",
      "           1       1.00      0.56      0.71         9\n",
      "\n",
      "    accuracy                           0.56         9\n",
      "   macro avg       0.50      0.28      0.36         9\n",
      "weighted avg       1.00      0.56      0.71         9\n",
      "\n"
     ]
    },
    {
     "name": "stderr",
     "output_type": "stream",
     "text": [
      "C:\\Users\\Catalina Valle Ribé\\anaconda3\\Lib\\site-packages\\sklearn\\metrics\\_classification.py:1469: UndefinedMetricWarning: Recall and F-score are ill-defined and being set to 0.0 in labels with no true samples. Use `zero_division` parameter to control this behavior.\n",
      "  _warn_prf(average, modifier, msg_start, len(result))\n",
      "C:\\Users\\Catalina Valle Ribé\\anaconda3\\Lib\\site-packages\\sklearn\\metrics\\_classification.py:1469: UndefinedMetricWarning: Recall and F-score are ill-defined and being set to 0.0 in labels with no true samples. Use `zero_division` parameter to control this behavior.\n",
      "  _warn_prf(average, modifier, msg_start, len(result))\n",
      "C:\\Users\\Catalina Valle Ribé\\anaconda3\\Lib\\site-packages\\sklearn\\metrics\\_classification.py:1469: UndefinedMetricWarning: Recall and F-score are ill-defined and being set to 0.0 in labels with no true samples. Use `zero_division` parameter to control this behavior.\n",
      "  _warn_prf(average, modifier, msg_start, len(result))\n"
     ]
    }
   ],
   "source": [
    "print(\"Classification Report en el conjunto de datos de sospecha de autismo:\")\n",
    "print(classification_report(df_sos[\"Diagnostico_autismo\"], y_pred_sos))"
   ]
  },
  {
   "cell_type": "code",
   "execution_count": 50,
   "id": "d7b1c967",
   "metadata": {},
   "outputs": [],
   "source": [
    "proba_sos = new_logistic_model.predict_proba(X_sos_scaled)"
   ]
  },
  {
   "cell_type": "code",
   "execution_count": 51,
   "id": "59bcc23b",
   "metadata": {},
   "outputs": [
    {
     "name": "stdout",
     "output_type": "stream",
     "text": [
      "Probabilidades de pertenencia a cada clase para el conjunto de datos de sospecha de autismo:\n",
      "[[0.12 0.88]\n",
      " [0.   1.  ]\n",
      " [0.82 0.18]\n",
      " [0.7  0.3 ]\n",
      " [0.03 0.97]\n",
      " [0.96 0.04]\n",
      " [0.16 0.84]\n",
      " [0.03 0.97]\n",
      " [0.71 0.29]]\n"
     ]
    }
   ],
   "source": [
    "print(\"Probabilidades de pertenencia a cada clase para el conjunto de datos de sospecha de autismo:\")\n",
    "print(proba_sos.round(2))"
   ]
  },
  {
   "cell_type": "code",
   "execution_count": 52,
   "id": "9853867b",
   "metadata": {},
   "outputs": [
    {
     "data": {
      "text/html": [
       "<div>\n",
       "<style scoped>\n",
       "    .dataframe tbody tr th:only-of-type {\n",
       "        vertical-align: middle;\n",
       "    }\n",
       "\n",
       "    .dataframe tbody tr th {\n",
       "        vertical-align: top;\n",
       "    }\n",
       "\n",
       "    .dataframe thead th {\n",
       "        text-align: right;\n",
       "    }\n",
       "</style>\n",
       "<table border=\"1\" class=\"dataframe\">\n",
       "  <thead>\n",
       "    <tr style=\"text-align: right;\">\n",
       "      <th></th>\n",
       "      <th>Diagnostico_autismo</th>\n",
       "      <th>Percibo algunos cambios en la forma de percibir estímulos sensoriales vinculados a los olores.</th>\n",
       "      <th>Percibo algunos cambios en la forma de percibir estímulos sensoriales vinculados a los sabores.</th>\n",
       "      <th>Percibo algunos cambios en la forma de percibir estímulos sensoriales vinculados a los ruidos.</th>\n",
       "      <th>Percibo algunos cambios en la forma de percibir estímulos sensoriales vinculados a las texturas.</th>\n",
       "      <th>Percibo algunos cambios en el ciclo del sueño.</th>\n",
       "      <th>Los cambios en mi procesamiento sensorial afectan mi capacidad para concentrarme en ciertas tareas.</th>\n",
       "      <th>Siento variaciones en mi equilibrio durante mi período.</th>\n",
       "      <th>Experimento variaciones en mi capacidad para realizar movimientos precisos y coordinados durante la menstruación.</th>\n",
       "      <th>Encuentro difícil interpretar las expresiones faciales de las personas.</th>\n",
       "      <th>...</th>\n",
       "      <th>Siento que establecer relaciones sexoafectivas es un desafío.</th>\n",
       "      <th>Creo que me ayudaría tener información sobre educación sexual integral.</th>\n",
       "      <th>Me siento cómodo/a con mi situación sexoafectiva actualmente.</th>\n",
       "      <th>La manera en la que experimento el mundo me permite conectar de manera profunda con mis emociones.</th>\n",
       "      <th>Mi enfoque en los detalles pequeños me permite encontrar soluciones creativas y originales a problemas complejos.</th>\n",
       "      <th>Puedo enfocarme en una tarea durante largos períodos de tiempo.</th>\n",
       "      <th>Hago lo que me gusta con mucha pasión y dedicación.</th>\n",
       "      <th>Siento que percibo la música de manera única y especial.</th>\n",
       "      <th>Tiendo a compartir una gran cantidad de información sobre mis intereses o temas que me apasionan.</th>\n",
       "      <th>Mi honestidad y autenticidad me permiten expresar mis pensamientos y emociones de manera directa y sincera.</th>\n",
       "    </tr>\n",
       "  </thead>\n",
       "  <tbody>\n",
       "    <tr>\n",
       "      <th>0</th>\n",
       "      <td>1</td>\n",
       "      <td>1</td>\n",
       "      <td>1</td>\n",
       "      <td>5</td>\n",
       "      <td>5</td>\n",
       "      <td>3</td>\n",
       "      <td>4</td>\n",
       "      <td>2</td>\n",
       "      <td>2</td>\n",
       "      <td>2</td>\n",
       "      <td>...</td>\n",
       "      <td>5</td>\n",
       "      <td>1</td>\n",
       "      <td>1</td>\n",
       "      <td>5</td>\n",
       "      <td>5</td>\n",
       "      <td>5</td>\n",
       "      <td>5</td>\n",
       "      <td>2</td>\n",
       "      <td>2</td>\n",
       "      <td>4</td>\n",
       "    </tr>\n",
       "    <tr>\n",
       "      <th>1</th>\n",
       "      <td>1</td>\n",
       "      <td>3</td>\n",
       "      <td>3</td>\n",
       "      <td>4</td>\n",
       "      <td>4</td>\n",
       "      <td>4</td>\n",
       "      <td>4</td>\n",
       "      <td>3</td>\n",
       "      <td>3</td>\n",
       "      <td>4</td>\n",
       "      <td>...</td>\n",
       "      <td>2</td>\n",
       "      <td>4</td>\n",
       "      <td>2</td>\n",
       "      <td>5</td>\n",
       "      <td>5</td>\n",
       "      <td>5</td>\n",
       "      <td>5</td>\n",
       "      <td>5</td>\n",
       "      <td>5</td>\n",
       "      <td>5</td>\n",
       "    </tr>\n",
       "    <tr>\n",
       "      <th>2</th>\n",
       "      <td>1</td>\n",
       "      <td>5</td>\n",
       "      <td>5</td>\n",
       "      <td>5</td>\n",
       "      <td>5</td>\n",
       "      <td>5</td>\n",
       "      <td>5</td>\n",
       "      <td>3</td>\n",
       "      <td>4</td>\n",
       "      <td>2</td>\n",
       "      <td>...</td>\n",
       "      <td>5</td>\n",
       "      <td>5</td>\n",
       "      <td>2</td>\n",
       "      <td>5</td>\n",
       "      <td>5</td>\n",
       "      <td>5</td>\n",
       "      <td>5</td>\n",
       "      <td>5</td>\n",
       "      <td>5</td>\n",
       "      <td>5</td>\n",
       "    </tr>\n",
       "    <tr>\n",
       "      <th>3</th>\n",
       "      <td>1</td>\n",
       "      <td>2</td>\n",
       "      <td>2</td>\n",
       "      <td>4</td>\n",
       "      <td>4</td>\n",
       "      <td>5</td>\n",
       "      <td>4</td>\n",
       "      <td>4</td>\n",
       "      <td>3</td>\n",
       "      <td>4</td>\n",
       "      <td>...</td>\n",
       "      <td>2</td>\n",
       "      <td>1</td>\n",
       "      <td>3</td>\n",
       "      <td>3</td>\n",
       "      <td>3</td>\n",
       "      <td>5</td>\n",
       "      <td>4</td>\n",
       "      <td>3</td>\n",
       "      <td>4</td>\n",
       "      <td>4</td>\n",
       "    </tr>\n",
       "    <tr>\n",
       "      <th>4</th>\n",
       "      <td>1</td>\n",
       "      <td>2</td>\n",
       "      <td>2</td>\n",
       "      <td>4</td>\n",
       "      <td>4</td>\n",
       "      <td>4</td>\n",
       "      <td>4</td>\n",
       "      <td>2</td>\n",
       "      <td>2</td>\n",
       "      <td>2</td>\n",
       "      <td>...</td>\n",
       "      <td>4</td>\n",
       "      <td>4</td>\n",
       "      <td>4</td>\n",
       "      <td>2</td>\n",
       "      <td>2</td>\n",
       "      <td>2</td>\n",
       "      <td>4</td>\n",
       "      <td>4</td>\n",
       "      <td>2</td>\n",
       "      <td>4</td>\n",
       "    </tr>\n",
       "    <tr>\n",
       "      <th>...</th>\n",
       "      <td>...</td>\n",
       "      <td>...</td>\n",
       "      <td>...</td>\n",
       "      <td>...</td>\n",
       "      <td>...</td>\n",
       "      <td>...</td>\n",
       "      <td>...</td>\n",
       "      <td>...</td>\n",
       "      <td>...</td>\n",
       "      <td>...</td>\n",
       "      <td>...</td>\n",
       "      <td>...</td>\n",
       "      <td>...</td>\n",
       "      <td>...</td>\n",
       "      <td>...</td>\n",
       "      <td>...</td>\n",
       "      <td>...</td>\n",
       "      <td>...</td>\n",
       "      <td>...</td>\n",
       "      <td>...</td>\n",
       "      <td>...</td>\n",
       "    </tr>\n",
       "    <tr>\n",
       "      <th>61</th>\n",
       "      <td>1</td>\n",
       "      <td>5</td>\n",
       "      <td>3</td>\n",
       "      <td>5</td>\n",
       "      <td>4</td>\n",
       "      <td>4</td>\n",
       "      <td>4</td>\n",
       "      <td>4</td>\n",
       "      <td>4</td>\n",
       "      <td>4</td>\n",
       "      <td>...</td>\n",
       "      <td>3</td>\n",
       "      <td>3</td>\n",
       "      <td>2</td>\n",
       "      <td>4</td>\n",
       "      <td>4</td>\n",
       "      <td>4</td>\n",
       "      <td>4</td>\n",
       "      <td>3</td>\n",
       "      <td>4</td>\n",
       "      <td>3</td>\n",
       "    </tr>\n",
       "    <tr>\n",
       "      <th>62</th>\n",
       "      <td>1</td>\n",
       "      <td>2</td>\n",
       "      <td>2</td>\n",
       "      <td>2</td>\n",
       "      <td>2</td>\n",
       "      <td>2</td>\n",
       "      <td>4</td>\n",
       "      <td>2</td>\n",
       "      <td>2</td>\n",
       "      <td>5</td>\n",
       "      <td>...</td>\n",
       "      <td>5</td>\n",
       "      <td>3</td>\n",
       "      <td>5</td>\n",
       "      <td>5</td>\n",
       "      <td>5</td>\n",
       "      <td>5</td>\n",
       "      <td>5</td>\n",
       "      <td>5</td>\n",
       "      <td>5</td>\n",
       "      <td>5</td>\n",
       "    </tr>\n",
       "    <tr>\n",
       "      <th>63</th>\n",
       "      <td>0</td>\n",
       "      <td>1</td>\n",
       "      <td>1</td>\n",
       "      <td>1</td>\n",
       "      <td>1</td>\n",
       "      <td>4</td>\n",
       "      <td>1</td>\n",
       "      <td>4</td>\n",
       "      <td>5</td>\n",
       "      <td>2</td>\n",
       "      <td>...</td>\n",
       "      <td>5</td>\n",
       "      <td>4</td>\n",
       "      <td>2</td>\n",
       "      <td>4</td>\n",
       "      <td>5</td>\n",
       "      <td>2</td>\n",
       "      <td>4</td>\n",
       "      <td>3</td>\n",
       "      <td>2</td>\n",
       "      <td>2</td>\n",
       "    </tr>\n",
       "    <tr>\n",
       "      <th>64</th>\n",
       "      <td>0</td>\n",
       "      <td>4</td>\n",
       "      <td>4</td>\n",
       "      <td>4</td>\n",
       "      <td>4</td>\n",
       "      <td>4</td>\n",
       "      <td>3</td>\n",
       "      <td>2</td>\n",
       "      <td>2</td>\n",
       "      <td>2</td>\n",
       "      <td>...</td>\n",
       "      <td>4</td>\n",
       "      <td>4</td>\n",
       "      <td>2</td>\n",
       "      <td>3</td>\n",
       "      <td>4</td>\n",
       "      <td>4</td>\n",
       "      <td>4</td>\n",
       "      <td>4</td>\n",
       "      <td>4</td>\n",
       "      <td>4</td>\n",
       "    </tr>\n",
       "    <tr>\n",
       "      <th>65</th>\n",
       "      <td>0</td>\n",
       "      <td>2</td>\n",
       "      <td>2</td>\n",
       "      <td>2</td>\n",
       "      <td>2</td>\n",
       "      <td>4</td>\n",
       "      <td>4</td>\n",
       "      <td>2</td>\n",
       "      <td>2</td>\n",
       "      <td>2</td>\n",
       "      <td>...</td>\n",
       "      <td>2</td>\n",
       "      <td>4</td>\n",
       "      <td>4</td>\n",
       "      <td>4</td>\n",
       "      <td>4</td>\n",
       "      <td>4</td>\n",
       "      <td>4</td>\n",
       "      <td>3</td>\n",
       "      <td>3</td>\n",
       "      <td>4</td>\n",
       "    </tr>\n",
       "  </tbody>\n",
       "</table>\n",
       "<p>66 rows × 92 columns</p>\n",
       "</div>"
      ],
      "text/plain": [
       "    Diagnostico_autismo  \\\n",
       "0                     1   \n",
       "1                     1   \n",
       "2                     1   \n",
       "3                     1   \n",
       "4                     1   \n",
       "..                  ...   \n",
       "61                    1   \n",
       "62                    1   \n",
       "63                    0   \n",
       "64                    0   \n",
       "65                    0   \n",
       "\n",
       "    Percibo algunos cambios en la forma de percibir estímulos sensoriales vinculados a los olores.  \\\n",
       "0                                                   1                                                \n",
       "1                                                   3                                                \n",
       "2                                                   5                                                \n",
       "3                                                   2                                                \n",
       "4                                                   2                                                \n",
       "..                                                ...                                                \n",
       "61                                                  5                                                \n",
       "62                                                  2                                                \n",
       "63                                                  1                                                \n",
       "64                                                  4                                                \n",
       "65                                                  2                                                \n",
       "\n",
       "    Percibo algunos cambios en la forma de percibir estímulos sensoriales vinculados a los sabores.  \\\n",
       "0                                                   1                                                 \n",
       "1                                                   3                                                 \n",
       "2                                                   5                                                 \n",
       "3                                                   2                                                 \n",
       "4                                                   2                                                 \n",
       "..                                                ...                                                 \n",
       "61                                                  3                                                 \n",
       "62                                                  2                                                 \n",
       "63                                                  1                                                 \n",
       "64                                                  4                                                 \n",
       "65                                                  2                                                 \n",
       "\n",
       "    Percibo algunos cambios en la forma de percibir estímulos sensoriales vinculados a los ruidos.  \\\n",
       "0                                                   5                                                \n",
       "1                                                   4                                                \n",
       "2                                                   5                                                \n",
       "3                                                   4                                                \n",
       "4                                                   4                                                \n",
       "..                                                ...                                                \n",
       "61                                                  5                                                \n",
       "62                                                  2                                                \n",
       "63                                                  1                                                \n",
       "64                                                  4                                                \n",
       "65                                                  2                                                \n",
       "\n",
       "    Percibo algunos cambios en la forma de percibir estímulos sensoriales vinculados a las texturas.  \\\n",
       "0                                                   5                                                  \n",
       "1                                                   4                                                  \n",
       "2                                                   5                                                  \n",
       "3                                                   4                                                  \n",
       "4                                                   4                                                  \n",
       "..                                                ...                                                  \n",
       "61                                                  4                                                  \n",
       "62                                                  2                                                  \n",
       "63                                                  1                                                  \n",
       "64                                                  4                                                  \n",
       "65                                                  2                                                  \n",
       "\n",
       "    Percibo algunos cambios en el ciclo del sueño.  \\\n",
       "0                                                3   \n",
       "1                                                4   \n",
       "2                                                5   \n",
       "3                                                5   \n",
       "4                                                4   \n",
       "..                                             ...   \n",
       "61                                               4   \n",
       "62                                               2   \n",
       "63                                               4   \n",
       "64                                               4   \n",
       "65                                               4   \n",
       "\n",
       "    Los cambios en mi procesamiento sensorial afectan mi capacidad para concentrarme en ciertas tareas.  \\\n",
       "0                                                   4                                                     \n",
       "1                                                   4                                                     \n",
       "2                                                   5                                                     \n",
       "3                                                   4                                                     \n",
       "4                                                   4                                                     \n",
       "..                                                ...                                                     \n",
       "61                                                  4                                                     \n",
       "62                                                  4                                                     \n",
       "63                                                  1                                                     \n",
       "64                                                  3                                                     \n",
       "65                                                  4                                                     \n",
       "\n",
       "    Siento variaciones en mi equilibrio durante mi período.  \\\n",
       "0                                                   2         \n",
       "1                                                   3         \n",
       "2                                                   3         \n",
       "3                                                   4         \n",
       "4                                                   2         \n",
       "..                                                ...         \n",
       "61                                                  4         \n",
       "62                                                  2         \n",
       "63                                                  4         \n",
       "64                                                  2         \n",
       "65                                                  2         \n",
       "\n",
       "    Experimento variaciones en mi capacidad para realizar movimientos precisos y coordinados durante la menstruación.  \\\n",
       "0                                                   2                                                                   \n",
       "1                                                   3                                                                   \n",
       "2                                                   4                                                                   \n",
       "3                                                   3                                                                   \n",
       "4                                                   2                                                                   \n",
       "..                                                ...                                                                   \n",
       "61                                                  4                                                                   \n",
       "62                                                  2                                                                   \n",
       "63                                                  5                                                                   \n",
       "64                                                  2                                                                   \n",
       "65                                                  2                                                                   \n",
       "\n",
       "    Encuentro difícil interpretar las expresiones faciales de las personas.  \\\n",
       "0                                                   2                         \n",
       "1                                                   4                         \n",
       "2                                                   2                         \n",
       "3                                                   4                         \n",
       "4                                                   2                         \n",
       "..                                                ...                         \n",
       "61                                                  4                         \n",
       "62                                                  5                         \n",
       "63                                                  2                         \n",
       "64                                                  2                         \n",
       "65                                                  2                         \n",
       "\n",
       "    ...  Siento que establecer relaciones sexoafectivas es un desafío.  \\\n",
       "0   ...                                                  5               \n",
       "1   ...                                                  2               \n",
       "2   ...                                                  5               \n",
       "3   ...                                                  2               \n",
       "4   ...                                                  4               \n",
       "..  ...                                                ...               \n",
       "61  ...                                                  3               \n",
       "62  ...                                                  5               \n",
       "63  ...                                                  5               \n",
       "64  ...                                                  4               \n",
       "65  ...                                                  2               \n",
       "\n",
       "    Creo que me ayudaría tener información sobre educación sexual integral.  \\\n",
       "0                                                   1                         \n",
       "1                                                   4                         \n",
       "2                                                   5                         \n",
       "3                                                   1                         \n",
       "4                                                   4                         \n",
       "..                                                ...                         \n",
       "61                                                  3                         \n",
       "62                                                  3                         \n",
       "63                                                  4                         \n",
       "64                                                  4                         \n",
       "65                                                  4                         \n",
       "\n",
       "    Me siento cómodo/a con mi situación sexoafectiva actualmente.  \\\n",
       "0                                                   1               \n",
       "1                                                   2               \n",
       "2                                                   2               \n",
       "3                                                   3               \n",
       "4                                                   4               \n",
       "..                                                ...               \n",
       "61                                                  2               \n",
       "62                                                  5               \n",
       "63                                                  2               \n",
       "64                                                  2               \n",
       "65                                                  4               \n",
       "\n",
       "    La manera en la que experimento el mundo me permite conectar de manera profunda con mis emociones.  \\\n",
       "0                                                   5                                                    \n",
       "1                                                   5                                                    \n",
       "2                                                   5                                                    \n",
       "3                                                   3                                                    \n",
       "4                                                   2                                                    \n",
       "..                                                ...                                                    \n",
       "61                                                  4                                                    \n",
       "62                                                  5                                                    \n",
       "63                                                  4                                                    \n",
       "64                                                  3                                                    \n",
       "65                                                  4                                                    \n",
       "\n",
       "    Mi enfoque en los detalles pequeños me permite encontrar soluciones creativas y originales a problemas complejos.  \\\n",
       "0                                                   5                                                                   \n",
       "1                                                   5                                                                   \n",
       "2                                                   5                                                                   \n",
       "3                                                   3                                                                   \n",
       "4                                                   2                                                                   \n",
       "..                                                ...                                                                   \n",
       "61                                                  4                                                                   \n",
       "62                                                  5                                                                   \n",
       "63                                                  5                                                                   \n",
       "64                                                  4                                                                   \n",
       "65                                                  4                                                                   \n",
       "\n",
       "    Puedo enfocarme en una tarea durante largos períodos de tiempo.  \\\n",
       "0                                                   5                 \n",
       "1                                                   5                 \n",
       "2                                                   5                 \n",
       "3                                                   5                 \n",
       "4                                                   2                 \n",
       "..                                                ...                 \n",
       "61                                                  4                 \n",
       "62                                                  5                 \n",
       "63                                                  2                 \n",
       "64                                                  4                 \n",
       "65                                                  4                 \n",
       "\n",
       "    Hago lo que me gusta con mucha pasión y dedicación.  \\\n",
       "0                                                   5     \n",
       "1                                                   5     \n",
       "2                                                   5     \n",
       "3                                                   4     \n",
       "4                                                   4     \n",
       "..                                                ...     \n",
       "61                                                  4     \n",
       "62                                                  5     \n",
       "63                                                  4     \n",
       "64                                                  4     \n",
       "65                                                  4     \n",
       "\n",
       "    Siento que percibo la música de manera única y especial.  \\\n",
       "0                                                   2          \n",
       "1                                                   5          \n",
       "2                                                   5          \n",
       "3                                                   3          \n",
       "4                                                   4          \n",
       "..                                                ...          \n",
       "61                                                  3          \n",
       "62                                                  5          \n",
       "63                                                  3          \n",
       "64                                                  4          \n",
       "65                                                  3          \n",
       "\n",
       "    Tiendo a compartir una gran cantidad de información sobre mis intereses o temas que me apasionan.  \\\n",
       "0                                                   2                                                   \n",
       "1                                                   5                                                   \n",
       "2                                                   5                                                   \n",
       "3                                                   4                                                   \n",
       "4                                                   2                                                   \n",
       "..                                                ...                                                   \n",
       "61                                                  4                                                   \n",
       "62                                                  5                                                   \n",
       "63                                                  2                                                   \n",
       "64                                                  4                                                   \n",
       "65                                                  3                                                   \n",
       "\n",
       "    Mi honestidad y autenticidad me permiten expresar mis pensamientos y emociones de manera directa y sincera.  \n",
       "0                                                   4                                                            \n",
       "1                                                   5                                                            \n",
       "2                                                   5                                                            \n",
       "3                                                   4                                                            \n",
       "4                                                   4                                                            \n",
       "..                                                ...                                                            \n",
       "61                                                  3                                                            \n",
       "62                                                  5                                                            \n",
       "63                                                  2                                                            \n",
       "64                                                  4                                                            \n",
       "65                                                  4                                                            \n",
       "\n",
       "[66 rows x 92 columns]"
      ]
     },
     "execution_count": 52,
     "metadata": {},
     "output_type": "execute_result"
    }
   ],
   "source": [
    "df"
   ]
  },
  {
   "cell_type": "code",
   "execution_count": null,
   "id": "036354e5",
   "metadata": {},
   "outputs": [],
   "source": []
  }
 ],
 "metadata": {
  "kernelspec": {
   "display_name": "Python 3 (ipykernel)",
   "language": "python",
   "name": "python3"
  },
  "language_info": {
   "codemirror_mode": {
    "name": "ipython",
    "version": 3
   },
   "file_extension": ".py",
   "mimetype": "text/x-python",
   "name": "python",
   "nbconvert_exporter": "python",
   "pygments_lexer": "ipython3",
   "version": "3.11.4"
  }
 },
 "nbformat": 4,
 "nbformat_minor": 5
}
