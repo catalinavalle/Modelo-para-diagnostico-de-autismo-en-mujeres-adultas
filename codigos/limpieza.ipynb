{
 "cells": [
  {
   "cell_type": "markdown",
   "id": "fe6c9bcf",
   "metadata": {},
   "source": [
    "## Preprocesado"
   ]
  },
  {
   "cell_type": "markdown",
   "id": "ddd131be",
   "metadata": {},
   "source": [
    "Se importan las librerías para el preprocesamiento"
   ]
  },
  {
   "cell_type": "code",
   "execution_count": 1,
   "id": "45724b58",
   "metadata": {},
   "outputs": [],
   "source": [
    "import pandas as pd"
   ]
  },
  {
   "cell_type": "markdown",
   "id": "717c3591",
   "metadata": {},
   "source": [
    "Se carga el conjunto de datos"
   ]
  },
  {
   "cell_type": "code",
   "execution_count": 2,
   "id": "bb0fec45",
   "metadata": {},
   "outputs": [],
   "source": [
    "df = pd.read_excel(\"respuestas_97_completo.xlsx\")"
   ]
  },
  {
   "cell_type": "code",
   "execution_count": 3,
   "id": "ef1a20a6",
   "metadata": {},
   "outputs": [],
   "source": [
    "df = df.drop('Marca temporal', axis=1)"
   ]
  },
  {
   "cell_type": "markdown",
   "id": "f032193c",
   "metadata": {},
   "source": [
    "Se agrega una columna al inicio que según los valores de la columna de edad de diagnóstico, este toma valores de uno y cero, indicando si el sujeto del la fila tiene o no diagnóstico de autismo. Se considera válido la sospecha y auto diagnóstico."
   ]
  },
  {
   "cell_type": "code",
   "execution_count": 4,
   "id": "2953c8a7",
   "metadata": {},
   "outputs": [],
   "source": [
    "df_sospecha_AU = df[df['¿A que edad recibiste el diagnóstico de autismo?'] == 1]\n",
    "df_AU_AL = df[df['¿A que edad recibiste el diagnóstico de autismo?'] != 1]"
   ]
  },
  {
   "cell_type": "code",
   "execution_count": 5,
   "id": "5baea567",
   "metadata": {},
   "outputs": [],
   "source": [
    "diagnostico_autismo = df_AU_AL.iloc[:, 2].apply(lambda x:0 if x==0 else 1)"
   ]
  },
  {
   "cell_type": "code",
   "execution_count": 6,
   "id": "99d58c4d",
   "metadata": {},
   "outputs": [],
   "source": [
    "df_AU_AL.insert(loc=0, column='Diagnostico_autismo', value=diagnostico_autismo)"
   ]
  },
  {
   "cell_type": "markdown",
   "id": "2c7d09bc",
   "metadata": {},
   "source": [
    "Se filtra por edad (mayor a 20)"
   ]
  },
  {
   "cell_type": "code",
   "execution_count": 7,
   "id": "42534e5f",
   "metadata": {},
   "outputs": [],
   "source": [
    "df_edad = df_AU_AL[df_AU_AL['Ingresa tu edad actual'] > 20]"
   ]
  },
  {
   "cell_type": "code",
   "execution_count": 8,
   "id": "c33f4d1c",
   "metadata": {},
   "outputs": [],
   "source": [
    "df_sospecha_AU = df_sospecha_AU[df_sospecha_AU['Ingresa tu edad actual'] > 20]"
   ]
  },
  {
   "cell_type": "markdown",
   "id": "cf916a43",
   "metadata": {},
   "source": [
    "Se filtra por género"
   ]
  },
  {
   "cell_type": "code",
   "execution_count": 9,
   "id": "9f4c45ce",
   "metadata": {},
   "outputs": [],
   "source": [
    "df_fem = df_edad[df_edad['Género'] == 'Femenino']"
   ]
  },
  {
   "cell_type": "code",
   "execution_count": 10,
   "id": "9279a95e",
   "metadata": {},
   "outputs": [],
   "source": [
    "df_sospecha_AU = df_sospecha_AU[df_sospecha_AU['Género'] == 'Femenino']"
   ]
  },
  {
   "cell_type": "markdown",
   "id": "9ca48718",
   "metadata": {},
   "source": [
    "Se crean nuevos df con las columnas descriptivas, comentarios e historias"
   ]
  },
  {
   "cell_type": "code",
   "execution_count": 11,
   "id": "117f80e3",
   "metadata": {},
   "outputs": [],
   "source": [
    "columnas = ['Ingresa tu edad actual', 'Género', '¿A que edad recibiste el diagnóstico de autismo?', '¿Alguna vez has sido diagnosticado/a con algunas de estas neurodivergencias?', '¿Has menstruado?', '¿Alguna vez has sido diagnosticado/a con algunas de estas categorías?']\n",
    "comentarios = ['Comentarios', 'Comentarios.1', 'Comentarios.2', 'Comentarios.3', 'Comentarios.4', 'Comentarios.5', 'Comentarios.6', 'Comentarios.7', 'Comentarios.8', 'Comentarios.9']\n",
    "\n",
    "df_comentarios = df_fem[comentarios]\n",
    "df_historias = df_fem.iloc[:, -1]\n",
    "data_descriptiva = df_fem[['Diagnostico_autismo'] + columnas]\n",
    "\n",
    "df_comentarios_sos = df_sospecha_AU[comentarios]\n",
    "df_historias_sos = df_sospecha_AU.iloc[:, -1]\n",
    "data_descriptiva_sos = df_sospecha_AU[columnas]"
   ]
  },
  {
   "cell_type": "code",
   "execution_count": 12,
   "id": "5b89a2bd",
   "metadata": {},
   "outputs": [],
   "source": [
    "df_comentarios.to_excel('df_comentarios.xlsx', index = False)\n",
    "df_historias.to_excel('df_historias.xlsx', index = False)\n",
    "data_descriptiva.to_excel('df_descriptiva.xlsx', index =False)\n",
    "\n",
    "df_comentarios_sos.to_excel('df_comentarios_sos.xlsx', index = False)\n",
    "df_historias_sos.to_excel('df_historias_sos.xlsx', index = False)\n",
    "data_descriptiva_sos.to_excel('df_descriptiva_sos.xlsx', index =False)"
   ]
  },
  {
   "cell_type": "markdown",
   "id": "4cff3896",
   "metadata": {},
   "source": [
    "Se eliminan las columnas de información personal, quedando solo la primera que indica si tiene el diagnostico o no, y las preguntas."
   ]
  },
  {
   "cell_type": "code",
   "execution_count": 13,
   "id": "cf7521fb",
   "metadata": {},
   "outputs": [
    {
     "data": {
      "text/plain": [
       "'Estimado/a Participante,\\nEste espacio es exclusivamente suyo para compartir su experiencia en relación a la neurodivergencia. Sus reflexiones son esenciales para el estudio y serán tratadas con la máxima confidencialidad y respeto.'"
      ]
     },
     "execution_count": 13,
     "metadata": {},
     "output_type": "execute_result"
    }
   ],
   "source": [
    "df_fem.columns[-1]"
   ]
  },
  {
   "cell_type": "code",
   "execution_count": 14,
   "id": "ddbc4269",
   "metadata": {},
   "outputs": [],
   "source": [
    "eliminar = columnas + comentarios\n",
    "df_fem = df_fem.drop(eliminar, axis=1)\n",
    "df_fem = df_fem.drop(df_fem.columns[-1], axis=1)\n",
    "\n",
    "df_sospecha_AU = df_sospecha_AU.drop(eliminar, axis=1)\n",
    "df_sospecha_AU = df_sospecha_AU.drop(df_sospecha_AU.columns[-1], axis=1)"
   ]
  },
  {
   "cell_type": "markdown",
   "id": "c0f76c65",
   "metadata": {},
   "source": [
    "Se realiza un mapeo de las respuestas, para posteriormente cambiarlas a numéricas."
   ]
  },
  {
   "cell_type": "code",
   "execution_count": 15,
   "id": "54985035",
   "metadata": {},
   "outputs": [],
   "source": [
    "mapeo_respuestas = {\n",
    "    'Totalmente de acuerdo': 5,\n",
    "    'De acuerdo': 4,\n",
    "    'Ni de acuerdo, ni en desacuerdo': 3,\n",
    "    'En desacuerdo': 2,\n",
    "    'Totalmente en desacuerdo': 1\n",
    "}"
   ]
  },
  {
   "cell_type": "code",
   "execution_count": 16,
   "id": "c8171654",
   "metadata": {},
   "outputs": [],
   "source": [
    "columnas_a_convertir = df_fem.columns[1:]\n",
    "for columna in columnas_a_convertir:\n",
    "    df_fem[columna] = df_fem[columna].replace(mapeo_respuestas)"
   ]
  },
  {
   "cell_type": "code",
   "execution_count": 17,
   "id": "1ec82701",
   "metadata": {},
   "outputs": [],
   "source": [
    "df_sospecha_AU = df_sospecha_AU.applymap(lambda x: mapeo_respuestas.get(x) if x in mapeo_respuestas else x)"
   ]
  },
  {
   "cell_type": "markdown",
   "id": "e7122d93",
   "metadata": {},
   "source": [
    "Descargar excel con las respuestas mapeadas"
   ]
  },
  {
   "cell_type": "code",
   "execution_count": 18,
   "id": "a7e14e8d",
   "metadata": {},
   "outputs": [],
   "source": [
    "df_fem.to_excel('respuestas_mapeadas.xlsx', index=False)\n",
    "df_sospecha_AU.to_excel('respuestas_mapeadas_sos.xlsx', index=False)"
   ]
  }
 ],
 "metadata": {
  "kernelspec": {
   "display_name": "Python 3 (ipykernel)",
   "language": "python",
   "name": "python3"
  },
  "language_info": {
   "codemirror_mode": {
    "name": "ipython",
    "version": 3
   },
   "file_extension": ".py",
   "mimetype": "text/x-python",
   "name": "python",
   "nbconvert_exporter": "python",
   "pygments_lexer": "ipython3",
   "version": "3.11.4"
  }
 },
 "nbformat": 4,
 "nbformat_minor": 5
}
